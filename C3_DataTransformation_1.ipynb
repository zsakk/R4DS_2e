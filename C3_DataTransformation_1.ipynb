{
 "cells": [
  {
   "cell_type": "markdown",
   "id": "7cda9ea8-0bb7-4976-be2a-7b631be767a0",
   "metadata": {},
   "source": [
    "# Data transformation\n",
    "\n",
    "## 3.1 Introduction\n",
    "\n",
    "Visualization is an important tool for generating insight, but it’s rare that you get the data in exactly the right form you need to make the graph you want. Often you’ll need to create some new variables or summaries to answer your questions with your data, or maybe you just want to rename the variables or reorder the observations to make the data a little easier to work with.\n",
    "\n",
    "**data transformation using the dplyr package**\n",
    "\n",
    "flights is a **tibble**, a special type of data frame used by the tidyverse to avoid some common gotchas. The most important difference between tibbles and data frames is the way tibbles print; they are designed for large datasets, so they only show the first few rows and only the columns that fit on one screen.\n",
    "\n",
    "### 3.1.3 dplyr basics\n",
    "\n",
    "The first argument is always a **data frame**.\n",
    "\n",
    "The subsequent arguments typically describe **which columns to operate on** using the variable names (without quotes).\n",
    "\n",
    "The output is always a **new data frame**.\n",
    "\n",
    "Because each verb does one thing well, solving complex problems will usually require combining multiple verbs, and we’ll do so with **the pipe, |>**. The pipe takes the thing on its left and passes it along to the function on its right so that x |> f(y) is equivalent to f(x, y), and x |> f(y) |> g(z) is equivalent to g(f(x, y), z). The easiest way to pronounce the pipe is **“then”**.\n",
    "\n",
    "dplyr’s verbs are organized into four groups based on what they operate on: **rows, columns, groups, or tables**."
   ]
  },
  {
   "cell_type": "code",
   "execution_count": 1,
   "id": "6bde33ef-eb77-4a2c-8f6c-16b951bd7acb",
   "metadata": {},
   "outputs": [
    {
     "name": "stderr",
     "output_type": "stream",
     "text": [
      "── \u001b[1mAttaching core tidyverse packages\u001b[22m ──────────────────────── tidyverse 2.0.0 ──\n",
      "\u001b[32m✔\u001b[39m \u001b[34mdplyr    \u001b[39m 1.1.4     \u001b[32m✔\u001b[39m \u001b[34mreadr    \u001b[39m 2.1.5\n",
      "\u001b[32m✔\u001b[39m \u001b[34mforcats  \u001b[39m 1.0.0     \u001b[32m✔\u001b[39m \u001b[34mstringr  \u001b[39m 1.5.1\n",
      "\u001b[32m✔\u001b[39m \u001b[34mggplot2  \u001b[39m 3.5.2     \u001b[32m✔\u001b[39m \u001b[34mtibble   \u001b[39m 3.2.1\n",
      "\u001b[32m✔\u001b[39m \u001b[34mlubridate\u001b[39m 1.9.4     \u001b[32m✔\u001b[39m \u001b[34mtidyr    \u001b[39m 1.3.1\n",
      "\u001b[32m✔\u001b[39m \u001b[34mpurrr    \u001b[39m 1.0.4     \n",
      "── \u001b[1mConflicts\u001b[22m ────────────────────────────────────────── tidyverse_conflicts() ──\n",
      "\u001b[31m✖\u001b[39m \u001b[34mdplyr\u001b[39m::\u001b[32mfilter()\u001b[39m masks \u001b[34mstats\u001b[39m::filter()\n",
      "\u001b[31m✖\u001b[39m \u001b[34mdplyr\u001b[39m::\u001b[32mlag()\u001b[39m    masks \u001b[34mstats\u001b[39m::lag()\n",
      "\u001b[36mℹ\u001b[39m Use the conflicted package (\u001b[3m\u001b[34m<http://conflicted.r-lib.org/>\u001b[39m\u001b[23m) to force all conflicts to become errors\n"
     ]
    },
    {
     "data": {
      "text/html": [
       "\n",
       "<table style=\"width: 100%;\"><tr><td>flights {nycflights13}</td><td style=\"text-align: right;\">R Documentation</td></tr></table>\n",
       "\n",
       "<h2>Flights data</h2>\n",
       "\n",
       "<h3>Description</h3>\n",
       "\n",
       "<p>On-time data for all flights that departed NYC (i.e. JFK, LGA or EWR) in\n",
       "2013.\n",
       "</p>\n",
       "\n",
       "\n",
       "<h3>Usage</h3>\n",
       "\n",
       "<pre><code class='language-R'>flights\n",
       "</code></pre>\n",
       "\n",
       "\n",
       "<h3>Format</h3>\n",
       "\n",
       "<p>Data frame with columns\n",
       "</p>\n",
       "\n",
       "<dl>\n",
       "<dt>year, month, day</dt><dd><p>Date of departure.</p>\n",
       "</dd>\n",
       "<dt>dep_time, arr_time</dt><dd><p>Actual departure and arrival times (format HHMM or HMM), local tz.</p>\n",
       "</dd>\n",
       "<dt>sched_dep_time, sched_arr_time</dt><dd><p>Scheduled departure and arrival times (format HHMM or HMM), local tz.</p>\n",
       "</dd>\n",
       "<dt>dep_delay, arr_delay</dt><dd><p>Departure and arrival delays, in minutes.\n",
       "Negative times represent early departures/arrivals.</p>\n",
       "</dd>\n",
       "<dt>carrier</dt><dd><p>Two letter carrier abbreviation. See <code>airlines</code>\n",
       "to get name.</p>\n",
       "</dd>\n",
       "<dt>flight</dt><dd><p>Flight number.</p>\n",
       "</dd>\n",
       "<dt>tailnum</dt><dd><p>Plane tail number. See <code>planes</code> for additional metadata.</p>\n",
       "</dd>\n",
       "<dt>origin, dest</dt><dd><p>Origin and destination. See <code>airports</code> for\n",
       "additional metadata.</p>\n",
       "</dd>\n",
       "<dt>air_time</dt><dd><p>Amount of time spent in the air, in minutes.</p>\n",
       "</dd>\n",
       "<dt>distance</dt><dd><p>Distance between airports, in miles.</p>\n",
       "</dd>\n",
       "<dt>hour, minute</dt><dd><p>Time of scheduled departure broken into hour and minutes.</p>\n",
       "</dd>\n",
       "<dt>time_hour</dt><dd><p>Scheduled date and hour of the flight as a <code>POSIXct</code> date.\n",
       "Along with <code>origin</code>, can be used to join flights data to <code>weather</code> data.</p>\n",
       "</dd>\n",
       "</dl>\n",
       "\n",
       "\n",
       "\n",
       "<h3>Source</h3>\n",
       "\n",
       "<p>RITA, Bureau of transportation statistics,\n",
       "<a href=\"https://www.transtats.bts.gov/DL_SelectFields.asp?Table_ID=236\">https://www.transtats.bts.gov/DL_SelectFields.asp?Table_ID=236</a>\n",
       "</p>\n",
       "\n",
       "<hr /><div style=\"text-align: center;\">[Package <em>nycflights13</em> version 1.0.2 ]</div></main>\n",
       "\n",
       "</div>"
      ],
      "text/latex": [
       "\\HeaderA{flights}{Flights data}{flights}\n",
       "\\keyword{datasets}{flights}\n",
       "%\n",
       "\\begin{Description}\n",
       "On-time data for all flights that departed NYC (i.e. JFK, LGA or EWR) in\n",
       "2013.\n",
       "\\end{Description}\n",
       "%\n",
       "\\begin{Usage}\n",
       "\\begin{verbatim}\n",
       "flights\n",
       "\\end{verbatim}\n",
       "\\end{Usage}\n",
       "%\n",
       "\\begin{Format}\n",
       "Data frame with columns\n",
       "\\begin{description}\n",
       "\n",
       "\\item[year, month, day] Date of departure.\n",
       "\\item[dep\\_time, arr\\_time] Actual departure and arrival times (format HHMM or HMM), local tz.\n",
       "\\item[sched\\_dep\\_time, sched\\_arr\\_time] Scheduled departure and arrival times (format HHMM or HMM), local tz.\n",
       "\\item[dep\\_delay, arr\\_delay] Departure and arrival delays, in minutes.\n",
       "Negative times represent early departures/arrivals.\n",
       "\\item[carrier] Two letter carrier abbreviation. See \\code{\\LinkA{airlines}{airlines}}\n",
       "to get name.\n",
       "\\item[flight] Flight number.\n",
       "\\item[tailnum] Plane tail number. See \\code{\\LinkA{planes}{planes}} for additional metadata.\n",
       "\\item[origin, dest] Origin and destination. See \\code{\\LinkA{airports}{airports}} for\n",
       "additional metadata.\n",
       "\\item[air\\_time] Amount of time spent in the air, in minutes.\n",
       "\\item[distance] Distance between airports, in miles.\n",
       "\\item[hour, minute] Time of scheduled departure broken into hour and minutes.\n",
       "\\item[time\\_hour] Scheduled date and hour of the flight as a \\code{POSIXct} date.\n",
       "Along with \\code{origin}, can be used to join flights data to \\code{\\LinkA{weather}{weather}} data.\n",
       "\n",
       "\\end{description}\n",
       "\n",
       "\\end{Format}\n",
       "%\n",
       "\\begin{Source}\n",
       "RITA, Bureau of transportation statistics,\n",
       "\\url{https://www.transtats.bts.gov/DL_SelectFields.asp?Table_ID=236}\n",
       "\\end{Source}"
      ],
      "text/plain": [
       "flights              package:nycflights13              R Documentation\n",
       "\n",
       "_\bF_\bl_\bi_\bg_\bh_\bt_\bs _\bd_\ba_\bt_\ba\n",
       "\n",
       "_\bD_\be_\bs_\bc_\br_\bi_\bp_\bt_\bi_\bo_\bn:\n",
       "\n",
       "     On-time data for all flights that departed NYC (i.e. JFK, LGA or\n",
       "     EWR) in 2013.\n",
       "\n",
       "_\bU_\bs_\ba_\bg_\be:\n",
       "\n",
       "     flights\n",
       "     \n",
       "_\bF_\bo_\br_\bm_\ba_\bt:\n",
       "\n",
       "     Data frame with columns\n",
       "\n",
       "     year, month, day Date of departure.\n",
       "\n",
       "     dep_time, arr_time Actual departure and arrival times (format HHMM\n",
       "          or HMM), local tz.\n",
       "\n",
       "     sched_dep_time, sched_arr_time Scheduled departure and arrival\n",
       "          times (format HHMM or HMM), local tz.\n",
       "\n",
       "     dep_delay, arr_delay Departure and arrival delays, in minutes.\n",
       "          Negative times represent early departures/arrivals.\n",
       "\n",
       "     carrier Two letter carrier abbreviation. See ‘airlines’ to get\n",
       "          name.\n",
       "\n",
       "     flight Flight number.\n",
       "\n",
       "     tailnum Plane tail number. See ‘planes’ for additional metadata.\n",
       "\n",
       "     origin, dest Origin and destination. See ‘airports’ for additional\n",
       "          metadata.\n",
       "\n",
       "     air_time Amount of time spent in the air, in minutes.\n",
       "\n",
       "     distance Distance between airports, in miles.\n",
       "\n",
       "     hour, minute Time of scheduled departure broken into hour and\n",
       "          minutes.\n",
       "\n",
       "     time_hour Scheduled date and hour of the flight as a ‘POSIXct’\n",
       "          date. Along with ‘origin’, can be used to join flights data\n",
       "          to ‘weather’ data.\n",
       "\n",
       "_\bS_\bo_\bu_\br_\bc_\be:\n",
       "\n",
       "     RITA, Bureau of transportation statistics,\n",
       "     <https://www.transtats.bts.gov/DL_SelectFields.asp?Table_ID=236>\n"
      ]
     },
     "metadata": {},
     "output_type": "display_data"
    }
   ],
   "source": [
    "# dataset on 336,776 flights that departed from New York City in 2013.\n",
    "library(nycflights13)\n",
    "library(tidyverse)\n",
    "?flights\n",
    "#View(flights) # opens an interactive, scrollable, and filterable view\n",
    "#print(flights, width = Inf) # to show all columns\n",
    "#glimpse()"
   ]
  },
  {
   "cell_type": "markdown",
   "id": "778ee653-4c06-4171-8a79-ae257ce30df0",
   "metadata": {},
   "source": [
    "## 3.2 Rows\n",
    "\n",
    "The most important verbs that operate on rows of a dataset are **filter()**, which changes which rows are present without changing their order, and **arrange()**, which changes the order of the rows without changing which are present.\n",
    "\n",
    "Both functions only affect the rows, and the columns are left unchanged. Also, **distinct()** which finds rows with unique values. Unlike arrange() and filter() it can also optionally modify the columns.\n",
    "\n",
    "### 3.2.1 filter()\n",
    "\n",
    "filter() allows you to keep rows based on the values of the columns. The first argument is the data frame. The second and subsequent arguments are the conditions that must be true to keep the row.\n",
    "\n",
    "When you run filter() dplyr executes the filtering operation, creating a new data frame, and then prints it. It doesn’t modify the existing flights dataset because **dplyr functions never modify their inputs**.\n",
    "\n",
    "*Flights that departed more than 120 minutes (two hours) late*\n",
    "\n",
    "`flights |> \n",
    "  filter(dep_delay > 120)`\n",
    "\n",
    "*Flights that departed on January 1*\n",
    "\n",
    "`flights |> \n",
    "  filter(month == 1 & day == 1)`\n",
    "\n",
    "*Flights that departed in January or February*\n",
    "\n",
    "`flights |> \n",
    "  filter(month == 1 | month == 2)`\n",
    "\n",
    "*Flights that departed in January or February*\n",
    "\n",
    "`flights |> \n",
    "  filter(month %in% c(1, 2))`\n",
    "\n",
    "`jan1 <- flights |> \n",
    "  filter(month == 1 & day == 1)`\n",
    "\n",
    "### 3.2.3 arrange() \n",
    "\n",
    "arrange() changes the order of the rows based on the value of the columns. It takes a data frame and a set of column names (or more complicated expressions) to order by. If you provide more than one column name, each additional column will be used to break ties in the values of the preceding columns.\n",
    "\n",
    "*Sorts by the departure time, which is spread over four columns.\n",
    "We get the earliest years first, then within a year, the earliest months, etc.*\n",
    "\n",
    "`flights |> \n",
    "  arrange(year, month, day, dep_time)`\n",
    "\n",
    "`flights |> \n",
    "  arrange(desc(dep_delay))`\n",
    "\n",
    "### 3.2.4 distinct() \n",
    "\n",
    "distinct() finds all the **unique rows** in a dataset, so technically, it primarily operates on the rows. Most of the time, however, you’ll want the distinct combination of some variables, so you can also optionally supply column names.\n",
    "\n",
    "*Remove duplicate rows, if any*\n",
    "\n",
    "`flights |> \n",
    "  distinct()`\n",
    "\n",
    "*Find all unique origin and destination pairs*\n",
    "\n",
    "`flights |> \n",
    "  distinct(origin, dest)`\n",
    "\n",
    "*Alternatively, if you want to keep the other columns when filtering for unique rows, you can use the **.keep_all = TRUE** option.*\n",
    "\n",
    "`flights |> \n",
    "  distinct(origin, dest, .keep_all = TRUE)`\n",
    "\n",
    "It’s not a coincidence that all of these distinct flights are on January 1: distinct() will find the first occurrence of a unique row in the dataset and discard the rest.\n",
    "\n",
    "If you want to find the number of occurrences instead, you’re better off swapping distinct() for **count()**. With the **sort = TRUE** argument, you can arrange them in descending order of the number of occurrences.\n",
    "\n",
    "`flights |>\n",
    "  count(origin, dest, sort = TRUE)`"
   ]
  },
  {
   "cell_type": "markdown",
   "id": "8f1512e2-df96-4a17-b46a-bf967690458a",
   "metadata": {},
   "source": [
    "### 3.2.5 Exercises\n",
    "\n",
    "1. In a single pipeline for each condition, find all flights that meet the condition:\n",
    "\n",
    "- Had an arrival delay of two or more hours\n",
    "- Flew to Houston (IAH or HOU)\n",
    "- Were operated by United, American, or Delta\n",
    "- Departed in summer (July, August, and September)\n",
    "- Arrived more than two hours late but didn’t leave late\n",
    "- Were delayed by at least an hour, but made up over 30 minutes in flight"
   ]
  },
  {
   "cell_type": "code",
   "execution_count": 2,
   "id": "d219e451-1c25-46c3-a165-18f015d9f604",
   "metadata": {},
   "outputs": [
    {
     "data": {
      "text/html": [
       "<table class=\"dataframe\">\n",
       "<caption>A tibble: 5 × 19</caption>\n",
       "<thead>\n",
       "\t<tr><th scope=col>year</th><th scope=col>month</th><th scope=col>day</th><th scope=col>dep_time</th><th scope=col>sched_dep_time</th><th scope=col>dep_delay</th><th scope=col>arr_time</th><th scope=col>sched_arr_time</th><th scope=col>arr_delay</th><th scope=col>carrier</th><th scope=col>flight</th><th scope=col>tailnum</th><th scope=col>origin</th><th scope=col>dest</th><th scope=col>air_time</th><th scope=col>distance</th><th scope=col>hour</th><th scope=col>minute</th><th scope=col>time_hour</th></tr>\n",
       "\t<tr><th scope=col>&lt;int&gt;</th><th scope=col>&lt;int&gt;</th><th scope=col>&lt;int&gt;</th><th scope=col>&lt;int&gt;</th><th scope=col>&lt;int&gt;</th><th scope=col>&lt;dbl&gt;</th><th scope=col>&lt;int&gt;</th><th scope=col>&lt;int&gt;</th><th scope=col>&lt;dbl&gt;</th><th scope=col>&lt;chr&gt;</th><th scope=col>&lt;int&gt;</th><th scope=col>&lt;chr&gt;</th><th scope=col>&lt;chr&gt;</th><th scope=col>&lt;chr&gt;</th><th scope=col>&lt;dbl&gt;</th><th scope=col>&lt;dbl&gt;</th><th scope=col>&lt;dbl&gt;</th><th scope=col>&lt;dbl&gt;</th><th scope=col>&lt;dttm&gt;</th></tr>\n",
       "</thead>\n",
       "<tbody>\n",
       "\t<tr><td>2013</td><td>1</td><td> 9</td><td> 641</td><td> 900</td><td>1301</td><td>1242</td><td>1530</td><td>1272</td><td>HA</td><td>  51</td><td>N384HA</td><td>JFK</td><td>HNL</td><td>640</td><td>4983</td><td> 9</td><td> 0</td><td>2013-01-09 09:00:00</td></tr>\n",
       "\t<tr><td>2013</td><td>6</td><td>15</td><td>1432</td><td>1935</td><td>1137</td><td>1607</td><td>2120</td><td>1127</td><td>MQ</td><td>3535</td><td>N504MQ</td><td>JFK</td><td>CMH</td><td> 74</td><td> 483</td><td>19</td><td>35</td><td>2013-06-15 19:00:00</td></tr>\n",
       "\t<tr><td>2013</td><td>1</td><td>10</td><td>1121</td><td>1635</td><td>1126</td><td>1239</td><td>1810</td><td>1109</td><td>MQ</td><td>3695</td><td>N517MQ</td><td>EWR</td><td>ORD</td><td>111</td><td> 719</td><td>16</td><td>35</td><td>2013-01-10 16:00:00</td></tr>\n",
       "\t<tr><td>2013</td><td>9</td><td>20</td><td>1139</td><td>1845</td><td>1014</td><td>1457</td><td>2210</td><td>1007</td><td>AA</td><td> 177</td><td>N338AA</td><td>JFK</td><td>SFO</td><td>354</td><td>2586</td><td>18</td><td>45</td><td>2013-09-20 18:00:00</td></tr>\n",
       "\t<tr><td>2013</td><td>7</td><td>22</td><td> 845</td><td>1600</td><td>1005</td><td>1044</td><td>1815</td><td> 989</td><td>MQ</td><td>3075</td><td>N665MQ</td><td>JFK</td><td>CVG</td><td> 96</td><td> 589</td><td>16</td><td> 0</td><td>2013-07-22 16:00:00</td></tr>\n",
       "</tbody>\n",
       "</table>\n"
      ],
      "text/latex": [
       "A tibble: 5 × 19\n",
       "\\begin{tabular}{lllllllllllllllllll}\n",
       " year & month & day & dep\\_time & sched\\_dep\\_time & dep\\_delay & arr\\_time & sched\\_arr\\_time & arr\\_delay & carrier & flight & tailnum & origin & dest & air\\_time & distance & hour & minute & time\\_hour\\\\\n",
       " <int> & <int> & <int> & <int> & <int> & <dbl> & <int> & <int> & <dbl> & <chr> & <int> & <chr> & <chr> & <chr> & <dbl> & <dbl> & <dbl> & <dbl> & <dttm>\\\\\n",
       "\\hline\n",
       "\t 2013 & 1 &  9 &  641 &  900 & 1301 & 1242 & 1530 & 1272 & HA &   51 & N384HA & JFK & HNL & 640 & 4983 &  9 &  0 & 2013-01-09 09:00:00\\\\\n",
       "\t 2013 & 6 & 15 & 1432 & 1935 & 1137 & 1607 & 2120 & 1127 & MQ & 3535 & N504MQ & JFK & CMH &  74 &  483 & 19 & 35 & 2013-06-15 19:00:00\\\\\n",
       "\t 2013 & 1 & 10 & 1121 & 1635 & 1126 & 1239 & 1810 & 1109 & MQ & 3695 & N517MQ & EWR & ORD & 111 &  719 & 16 & 35 & 2013-01-10 16:00:00\\\\\n",
       "\t 2013 & 9 & 20 & 1139 & 1845 & 1014 & 1457 & 2210 & 1007 & AA &  177 & N338AA & JFK & SFO & 354 & 2586 & 18 & 45 & 2013-09-20 18:00:00\\\\\n",
       "\t 2013 & 7 & 22 &  845 & 1600 & 1005 & 1044 & 1815 &  989 & MQ & 3075 & N665MQ & JFK & CVG &  96 &  589 & 16 &  0 & 2013-07-22 16:00:00\\\\\n",
       "\\end{tabular}\n"
      ],
      "text/markdown": [
       "\n",
       "A tibble: 5 × 19\n",
       "\n",
       "| year &lt;int&gt; | month &lt;int&gt; | day &lt;int&gt; | dep_time &lt;int&gt; | sched_dep_time &lt;int&gt; | dep_delay &lt;dbl&gt; | arr_time &lt;int&gt; | sched_arr_time &lt;int&gt; | arr_delay &lt;dbl&gt; | carrier &lt;chr&gt; | flight &lt;int&gt; | tailnum &lt;chr&gt; | origin &lt;chr&gt; | dest &lt;chr&gt; | air_time &lt;dbl&gt; | distance &lt;dbl&gt; | hour &lt;dbl&gt; | minute &lt;dbl&gt; | time_hour &lt;dttm&gt; |\n",
       "|---|---|---|---|---|---|---|---|---|---|---|---|---|---|---|---|---|---|---|\n",
       "| 2013 | 1 |  9 |  641 |  900 | 1301 | 1242 | 1530 | 1272 | HA |   51 | N384HA | JFK | HNL | 640 | 4983 |  9 |  0 | 2013-01-09 09:00:00 |\n",
       "| 2013 | 6 | 15 | 1432 | 1935 | 1137 | 1607 | 2120 | 1127 | MQ | 3535 | N504MQ | JFK | CMH |  74 |  483 | 19 | 35 | 2013-06-15 19:00:00 |\n",
       "| 2013 | 1 | 10 | 1121 | 1635 | 1126 | 1239 | 1810 | 1109 | MQ | 3695 | N517MQ | EWR | ORD | 111 |  719 | 16 | 35 | 2013-01-10 16:00:00 |\n",
       "| 2013 | 9 | 20 | 1139 | 1845 | 1014 | 1457 | 2210 | 1007 | AA |  177 | N338AA | JFK | SFO | 354 | 2586 | 18 | 45 | 2013-09-20 18:00:00 |\n",
       "| 2013 | 7 | 22 |  845 | 1600 | 1005 | 1044 | 1815 |  989 | MQ | 3075 | N665MQ | JFK | CVG |  96 |  589 | 16 |  0 | 2013-07-22 16:00:00 |\n",
       "\n"
      ],
      "text/plain": [
       "  year month day dep_time sched_dep_time dep_delay arr_time sched_arr_time\n",
       "1 2013 1      9   641      900           1301      1242     1530          \n",
       "2 2013 6     15  1432     1935           1137      1607     2120          \n",
       "3 2013 1     10  1121     1635           1126      1239     1810          \n",
       "4 2013 9     20  1139     1845           1014      1457     2210          \n",
       "5 2013 7     22   845     1600           1005      1044     1815          \n",
       "  arr_delay carrier flight tailnum origin dest air_time distance hour minute\n",
       "1 1272      HA        51   N384HA  JFK    HNL  640      4983      9    0    \n",
       "2 1127      MQ      3535   N504MQ  JFK    CMH   74       483     19   35    \n",
       "3 1109      MQ      3695   N517MQ  EWR    ORD  111       719     16   35    \n",
       "4 1007      AA       177   N338AA  JFK    SFO  354      2586     18   45    \n",
       "5  989      MQ      3075   N665MQ  JFK    CVG   96       589     16    0    \n",
       "  time_hour          \n",
       "1 2013-01-09 09:00:00\n",
       "2 2013-06-15 19:00:00\n",
       "3 2013-01-10 16:00:00\n",
       "4 2013-09-20 18:00:00\n",
       "5 2013-07-22 16:00:00"
      ]
     },
     "metadata": {},
     "output_type": "display_data"
    }
   ],
   "source": [
    "# Had an arrival delay of two or more hours\n",
    "flights |>\n",
    "  filter(arr_delay >= 120) |>\n",
    "  arrange(desc(arr_delay)) |>\n",
    "  head(n = 5)"
   ]
  },
  {
   "cell_type": "code",
   "execution_count": 3,
   "id": "770a7e03-1950-4980-962e-9fd73266b139",
   "metadata": {},
   "outputs": [
    {
     "data": {
      "text/html": [
       "<table class=\"dataframe\">\n",
       "<caption>A tibble: 5 × 19</caption>\n",
       "<thead>\n",
       "\t<tr><th scope=col>year</th><th scope=col>month</th><th scope=col>day</th><th scope=col>dep_time</th><th scope=col>sched_dep_time</th><th scope=col>dep_delay</th><th scope=col>arr_time</th><th scope=col>sched_arr_time</th><th scope=col>arr_delay</th><th scope=col>carrier</th><th scope=col>flight</th><th scope=col>tailnum</th><th scope=col>origin</th><th scope=col>dest</th><th scope=col>air_time</th><th scope=col>distance</th><th scope=col>hour</th><th scope=col>minute</th><th scope=col>time_hour</th></tr>\n",
       "\t<tr><th scope=col>&lt;int&gt;</th><th scope=col>&lt;int&gt;</th><th scope=col>&lt;int&gt;</th><th scope=col>&lt;int&gt;</th><th scope=col>&lt;int&gt;</th><th scope=col>&lt;dbl&gt;</th><th scope=col>&lt;int&gt;</th><th scope=col>&lt;int&gt;</th><th scope=col>&lt;dbl&gt;</th><th scope=col>&lt;chr&gt;</th><th scope=col>&lt;int&gt;</th><th scope=col>&lt;chr&gt;</th><th scope=col>&lt;chr&gt;</th><th scope=col>&lt;chr&gt;</th><th scope=col>&lt;dbl&gt;</th><th scope=col>&lt;dbl&gt;</th><th scope=col>&lt;dbl&gt;</th><th scope=col>&lt;dbl&gt;</th><th scope=col>&lt;dttm&gt;</th></tr>\n",
       "</thead>\n",
       "<tbody>\n",
       "\t<tr><td>2013</td><td>1</td><td>1</td><td>517</td><td>515</td><td> 2</td><td> 830</td><td> 819</td><td>11</td><td>UA</td><td>1545</td><td>N14228</td><td>EWR</td><td>IAH</td><td>227</td><td>1400</td><td>5</td><td>15</td><td>2013-01-01 05:00:00</td></tr>\n",
       "\t<tr><td>2013</td><td>1</td><td>1</td><td>533</td><td>529</td><td> 4</td><td> 850</td><td> 830</td><td>20</td><td>UA</td><td>1714</td><td>N24211</td><td>LGA</td><td>IAH</td><td>227</td><td>1416</td><td>5</td><td>29</td><td>2013-01-01 05:00:00</td></tr>\n",
       "\t<tr><td>2013</td><td>1</td><td>1</td><td>623</td><td>627</td><td>-4</td><td> 933</td><td> 932</td><td> 1</td><td>UA</td><td> 496</td><td>N459UA</td><td>LGA</td><td>IAH</td><td>229</td><td>1416</td><td>6</td><td>27</td><td>2013-01-01 06:00:00</td></tr>\n",
       "\t<tr><td>2013</td><td>1</td><td>1</td><td>728</td><td>732</td><td>-4</td><td>1041</td><td>1038</td><td> 3</td><td>UA</td><td> 473</td><td>N488UA</td><td>LGA</td><td>IAH</td><td>238</td><td>1416</td><td>7</td><td>32</td><td>2013-01-01 07:00:00</td></tr>\n",
       "\t<tr><td>2013</td><td>1</td><td>1</td><td>739</td><td>739</td><td> 0</td><td>1104</td><td>1038</td><td>26</td><td>UA</td><td>1479</td><td>N37408</td><td>EWR</td><td>IAH</td><td>249</td><td>1400</td><td>7</td><td>39</td><td>2013-01-01 07:00:00</td></tr>\n",
       "</tbody>\n",
       "</table>\n"
      ],
      "text/latex": [
       "A tibble: 5 × 19\n",
       "\\begin{tabular}{lllllllllllllllllll}\n",
       " year & month & day & dep\\_time & sched\\_dep\\_time & dep\\_delay & arr\\_time & sched\\_arr\\_time & arr\\_delay & carrier & flight & tailnum & origin & dest & air\\_time & distance & hour & minute & time\\_hour\\\\\n",
       " <int> & <int> & <int> & <int> & <int> & <dbl> & <int> & <int> & <dbl> & <chr> & <int> & <chr> & <chr> & <chr> & <dbl> & <dbl> & <dbl> & <dbl> & <dttm>\\\\\n",
       "\\hline\n",
       "\t 2013 & 1 & 1 & 517 & 515 &  2 &  830 &  819 & 11 & UA & 1545 & N14228 & EWR & IAH & 227 & 1400 & 5 & 15 & 2013-01-01 05:00:00\\\\\n",
       "\t 2013 & 1 & 1 & 533 & 529 &  4 &  850 &  830 & 20 & UA & 1714 & N24211 & LGA & IAH & 227 & 1416 & 5 & 29 & 2013-01-01 05:00:00\\\\\n",
       "\t 2013 & 1 & 1 & 623 & 627 & -4 &  933 &  932 &  1 & UA &  496 & N459UA & LGA & IAH & 229 & 1416 & 6 & 27 & 2013-01-01 06:00:00\\\\\n",
       "\t 2013 & 1 & 1 & 728 & 732 & -4 & 1041 & 1038 &  3 & UA &  473 & N488UA & LGA & IAH & 238 & 1416 & 7 & 32 & 2013-01-01 07:00:00\\\\\n",
       "\t 2013 & 1 & 1 & 739 & 739 &  0 & 1104 & 1038 & 26 & UA & 1479 & N37408 & EWR & IAH & 249 & 1400 & 7 & 39 & 2013-01-01 07:00:00\\\\\n",
       "\\end{tabular}\n"
      ],
      "text/markdown": [
       "\n",
       "A tibble: 5 × 19\n",
       "\n",
       "| year &lt;int&gt; | month &lt;int&gt; | day &lt;int&gt; | dep_time &lt;int&gt; | sched_dep_time &lt;int&gt; | dep_delay &lt;dbl&gt; | arr_time &lt;int&gt; | sched_arr_time &lt;int&gt; | arr_delay &lt;dbl&gt; | carrier &lt;chr&gt; | flight &lt;int&gt; | tailnum &lt;chr&gt; | origin &lt;chr&gt; | dest &lt;chr&gt; | air_time &lt;dbl&gt; | distance &lt;dbl&gt; | hour &lt;dbl&gt; | minute &lt;dbl&gt; | time_hour &lt;dttm&gt; |\n",
       "|---|---|---|---|---|---|---|---|---|---|---|---|---|---|---|---|---|---|---|\n",
       "| 2013 | 1 | 1 | 517 | 515 |  2 |  830 |  819 | 11 | UA | 1545 | N14228 | EWR | IAH | 227 | 1400 | 5 | 15 | 2013-01-01 05:00:00 |\n",
       "| 2013 | 1 | 1 | 533 | 529 |  4 |  850 |  830 | 20 | UA | 1714 | N24211 | LGA | IAH | 227 | 1416 | 5 | 29 | 2013-01-01 05:00:00 |\n",
       "| 2013 | 1 | 1 | 623 | 627 | -4 |  933 |  932 |  1 | UA |  496 | N459UA | LGA | IAH | 229 | 1416 | 6 | 27 | 2013-01-01 06:00:00 |\n",
       "| 2013 | 1 | 1 | 728 | 732 | -4 | 1041 | 1038 |  3 | UA |  473 | N488UA | LGA | IAH | 238 | 1416 | 7 | 32 | 2013-01-01 07:00:00 |\n",
       "| 2013 | 1 | 1 | 739 | 739 |  0 | 1104 | 1038 | 26 | UA | 1479 | N37408 | EWR | IAH | 249 | 1400 | 7 | 39 | 2013-01-01 07:00:00 |\n",
       "\n"
      ],
      "text/plain": [
       "  year month day dep_time sched_dep_time dep_delay arr_time sched_arr_time\n",
       "1 2013 1     1   517      515             2         830      819          \n",
       "2 2013 1     1   533      529             4         850      830          \n",
       "3 2013 1     1   623      627            -4         933      932          \n",
       "4 2013 1     1   728      732            -4        1041     1038          \n",
       "5 2013 1     1   739      739             0        1104     1038          \n",
       "  arr_delay carrier flight tailnum origin dest air_time distance hour minute\n",
       "1 11        UA      1545   N14228  EWR    IAH  227      1400     5    15    \n",
       "2 20        UA      1714   N24211  LGA    IAH  227      1416     5    29    \n",
       "3  1        UA       496   N459UA  LGA    IAH  229      1416     6    27    \n",
       "4  3        UA       473   N488UA  LGA    IAH  238      1416     7    32    \n",
       "5 26        UA      1479   N37408  EWR    IAH  249      1400     7    39    \n",
       "  time_hour          \n",
       "1 2013-01-01 05:00:00\n",
       "2 2013-01-01 05:00:00\n",
       "3 2013-01-01 06:00:00\n",
       "4 2013-01-01 07:00:00\n",
       "5 2013-01-01 07:00:00"
      ]
     },
     "metadata": {},
     "output_type": "display_data"
    }
   ],
   "source": [
    "# Flew to Houston (IAH or HOU)\n",
    "flights |>\n",
    "  filter(dest %in% c(\"IAH\", \"HOU\")) |>\n",
    "  head(n = 5)"
   ]
  },
  {
   "cell_type": "code",
   "execution_count": 4,
   "id": "75d3eb8c-6046-4dbb-97b8-e8fb582378d3",
   "metadata": {},
   "outputs": [
    {
     "data": {
      "text/html": [
       "<table class=\"dataframe\">\n",
       "<caption>A tibble: 5 × 19</caption>\n",
       "<thead>\n",
       "\t<tr><th scope=col>year</th><th scope=col>month</th><th scope=col>day</th><th scope=col>dep_time</th><th scope=col>sched_dep_time</th><th scope=col>dep_delay</th><th scope=col>arr_time</th><th scope=col>sched_arr_time</th><th scope=col>arr_delay</th><th scope=col>carrier</th><th scope=col>flight</th><th scope=col>tailnum</th><th scope=col>origin</th><th scope=col>dest</th><th scope=col>air_time</th><th scope=col>distance</th><th scope=col>hour</th><th scope=col>minute</th><th scope=col>time_hour</th></tr>\n",
       "\t<tr><th scope=col>&lt;int&gt;</th><th scope=col>&lt;int&gt;</th><th scope=col>&lt;int&gt;</th><th scope=col>&lt;int&gt;</th><th scope=col>&lt;int&gt;</th><th scope=col>&lt;dbl&gt;</th><th scope=col>&lt;int&gt;</th><th scope=col>&lt;int&gt;</th><th scope=col>&lt;dbl&gt;</th><th scope=col>&lt;chr&gt;</th><th scope=col>&lt;int&gt;</th><th scope=col>&lt;chr&gt;</th><th scope=col>&lt;chr&gt;</th><th scope=col>&lt;chr&gt;</th><th scope=col>&lt;dbl&gt;</th><th scope=col>&lt;dbl&gt;</th><th scope=col>&lt;dbl&gt;</th><th scope=col>&lt;dbl&gt;</th><th scope=col>&lt;dttm&gt;</th></tr>\n",
       "</thead>\n",
       "<tbody>\n",
       "\t<tr><td>2013</td><td>1</td><td>1</td><td>517</td><td>515</td><td> 2</td><td>830</td><td>819</td><td> 11</td><td>UA</td><td>1545</td><td>N14228</td><td>EWR</td><td>IAH</td><td>227</td><td>1400</td><td>5</td><td>15</td><td>2013-01-01 05:00:00</td></tr>\n",
       "\t<tr><td>2013</td><td>1</td><td>1</td><td>533</td><td>529</td><td> 4</td><td>850</td><td>830</td><td> 20</td><td>UA</td><td>1714</td><td>N24211</td><td>LGA</td><td>IAH</td><td>227</td><td>1416</td><td>5</td><td>29</td><td>2013-01-01 05:00:00</td></tr>\n",
       "\t<tr><td>2013</td><td>1</td><td>1</td><td>542</td><td>540</td><td> 2</td><td>923</td><td>850</td><td> 33</td><td>AA</td><td>1141</td><td>N619AA</td><td>JFK</td><td>MIA</td><td>160</td><td>1089</td><td>5</td><td>40</td><td>2013-01-01 05:00:00</td></tr>\n",
       "\t<tr><td>2013</td><td>1</td><td>1</td><td>554</td><td>600</td><td>-6</td><td>812</td><td>837</td><td>-25</td><td>DL</td><td> 461</td><td>N668DN</td><td>LGA</td><td>ATL</td><td>116</td><td> 762</td><td>6</td><td> 0</td><td>2013-01-01 06:00:00</td></tr>\n",
       "\t<tr><td>2013</td><td>1</td><td>1</td><td>554</td><td>558</td><td>-4</td><td>740</td><td>728</td><td> 12</td><td>UA</td><td>1696</td><td>N39463</td><td>EWR</td><td>ORD</td><td>150</td><td> 719</td><td>5</td><td>58</td><td>2013-01-01 05:00:00</td></tr>\n",
       "</tbody>\n",
       "</table>\n"
      ],
      "text/latex": [
       "A tibble: 5 × 19\n",
       "\\begin{tabular}{lllllllllllllllllll}\n",
       " year & month & day & dep\\_time & sched\\_dep\\_time & dep\\_delay & arr\\_time & sched\\_arr\\_time & arr\\_delay & carrier & flight & tailnum & origin & dest & air\\_time & distance & hour & minute & time\\_hour\\\\\n",
       " <int> & <int> & <int> & <int> & <int> & <dbl> & <int> & <int> & <dbl> & <chr> & <int> & <chr> & <chr> & <chr> & <dbl> & <dbl> & <dbl> & <dbl> & <dttm>\\\\\n",
       "\\hline\n",
       "\t 2013 & 1 & 1 & 517 & 515 &  2 & 830 & 819 &  11 & UA & 1545 & N14228 & EWR & IAH & 227 & 1400 & 5 & 15 & 2013-01-01 05:00:00\\\\\n",
       "\t 2013 & 1 & 1 & 533 & 529 &  4 & 850 & 830 &  20 & UA & 1714 & N24211 & LGA & IAH & 227 & 1416 & 5 & 29 & 2013-01-01 05:00:00\\\\\n",
       "\t 2013 & 1 & 1 & 542 & 540 &  2 & 923 & 850 &  33 & AA & 1141 & N619AA & JFK & MIA & 160 & 1089 & 5 & 40 & 2013-01-01 05:00:00\\\\\n",
       "\t 2013 & 1 & 1 & 554 & 600 & -6 & 812 & 837 & -25 & DL &  461 & N668DN & LGA & ATL & 116 &  762 & 6 &  0 & 2013-01-01 06:00:00\\\\\n",
       "\t 2013 & 1 & 1 & 554 & 558 & -4 & 740 & 728 &  12 & UA & 1696 & N39463 & EWR & ORD & 150 &  719 & 5 & 58 & 2013-01-01 05:00:00\\\\\n",
       "\\end{tabular}\n"
      ],
      "text/markdown": [
       "\n",
       "A tibble: 5 × 19\n",
       "\n",
       "| year &lt;int&gt; | month &lt;int&gt; | day &lt;int&gt; | dep_time &lt;int&gt; | sched_dep_time &lt;int&gt; | dep_delay &lt;dbl&gt; | arr_time &lt;int&gt; | sched_arr_time &lt;int&gt; | arr_delay &lt;dbl&gt; | carrier &lt;chr&gt; | flight &lt;int&gt; | tailnum &lt;chr&gt; | origin &lt;chr&gt; | dest &lt;chr&gt; | air_time &lt;dbl&gt; | distance &lt;dbl&gt; | hour &lt;dbl&gt; | minute &lt;dbl&gt; | time_hour &lt;dttm&gt; |\n",
       "|---|---|---|---|---|---|---|---|---|---|---|---|---|---|---|---|---|---|---|\n",
       "| 2013 | 1 | 1 | 517 | 515 |  2 | 830 | 819 |  11 | UA | 1545 | N14228 | EWR | IAH | 227 | 1400 | 5 | 15 | 2013-01-01 05:00:00 |\n",
       "| 2013 | 1 | 1 | 533 | 529 |  4 | 850 | 830 |  20 | UA | 1714 | N24211 | LGA | IAH | 227 | 1416 | 5 | 29 | 2013-01-01 05:00:00 |\n",
       "| 2013 | 1 | 1 | 542 | 540 |  2 | 923 | 850 |  33 | AA | 1141 | N619AA | JFK | MIA | 160 | 1089 | 5 | 40 | 2013-01-01 05:00:00 |\n",
       "| 2013 | 1 | 1 | 554 | 600 | -6 | 812 | 837 | -25 | DL |  461 | N668DN | LGA | ATL | 116 |  762 | 6 |  0 | 2013-01-01 06:00:00 |\n",
       "| 2013 | 1 | 1 | 554 | 558 | -4 | 740 | 728 |  12 | UA | 1696 | N39463 | EWR | ORD | 150 |  719 | 5 | 58 | 2013-01-01 05:00:00 |\n",
       "\n"
      ],
      "text/plain": [
       "  year month day dep_time sched_dep_time dep_delay arr_time sched_arr_time\n",
       "1 2013 1     1   517      515             2        830      819           \n",
       "2 2013 1     1   533      529             4        850      830           \n",
       "3 2013 1     1   542      540             2        923      850           \n",
       "4 2013 1     1   554      600            -6        812      837           \n",
       "5 2013 1     1   554      558            -4        740      728           \n",
       "  arr_delay carrier flight tailnum origin dest air_time distance hour minute\n",
       "1  11       UA      1545   N14228  EWR    IAH  227      1400     5    15    \n",
       "2  20       UA      1714   N24211  LGA    IAH  227      1416     5    29    \n",
       "3  33       AA      1141   N619AA  JFK    MIA  160      1089     5    40    \n",
       "4 -25       DL       461   N668DN  LGA    ATL  116       762     6     0    \n",
       "5  12       UA      1696   N39463  EWR    ORD  150       719     5    58    \n",
       "  time_hour          \n",
       "1 2013-01-01 05:00:00\n",
       "2 2013-01-01 05:00:00\n",
       "3 2013-01-01 05:00:00\n",
       "4 2013-01-01 06:00:00\n",
       "5 2013-01-01 05:00:00"
      ]
     },
     "metadata": {},
     "output_type": "display_data"
    }
   ],
   "source": [
    "# Were operated by United, American, or Delta\n",
    "flights |>\n",
    "  filter(carrier %in% c(\"UA\", \"AA\", \"DL\")) |>\n",
    "  head(n = 5)\n",
    "# airlines"
   ]
  },
  {
   "cell_type": "code",
   "execution_count": 5,
   "id": "d03c7a7b-764c-4fa8-8bef-29f265fc3bf2",
   "metadata": {},
   "outputs": [
    {
     "data": {
      "text/html": [
       "<table class=\"dataframe\">\n",
       "<caption>A tibble: 5 × 19</caption>\n",
       "<thead>\n",
       "\t<tr><th scope=col>year</th><th scope=col>month</th><th scope=col>day</th><th scope=col>dep_time</th><th scope=col>sched_dep_time</th><th scope=col>dep_delay</th><th scope=col>arr_time</th><th scope=col>sched_arr_time</th><th scope=col>arr_delay</th><th scope=col>carrier</th><th scope=col>flight</th><th scope=col>tailnum</th><th scope=col>origin</th><th scope=col>dest</th><th scope=col>air_time</th><th scope=col>distance</th><th scope=col>hour</th><th scope=col>minute</th><th scope=col>time_hour</th></tr>\n",
       "\t<tr><th scope=col>&lt;int&gt;</th><th scope=col>&lt;int&gt;</th><th scope=col>&lt;int&gt;</th><th scope=col>&lt;int&gt;</th><th scope=col>&lt;int&gt;</th><th scope=col>&lt;dbl&gt;</th><th scope=col>&lt;int&gt;</th><th scope=col>&lt;int&gt;</th><th scope=col>&lt;dbl&gt;</th><th scope=col>&lt;chr&gt;</th><th scope=col>&lt;int&gt;</th><th scope=col>&lt;chr&gt;</th><th scope=col>&lt;chr&gt;</th><th scope=col>&lt;chr&gt;</th><th scope=col>&lt;dbl&gt;</th><th scope=col>&lt;dbl&gt;</th><th scope=col>&lt;dbl&gt;</th><th scope=col>&lt;dbl&gt;</th><th scope=col>&lt;dttm&gt;</th></tr>\n",
       "</thead>\n",
       "<tbody>\n",
       "\t<tr><td>2013</td><td>7</td><td>1</td><td> 1</td><td>2029</td><td>212</td><td>236</td><td>2359</td><td>157</td><td>B6</td><td> 915</td><td>N653JB</td><td>JFK</td><td>SFO</td><td>315</td><td>2586</td><td>20</td><td>29</td><td>2013-07-01 20:00:00</td></tr>\n",
       "\t<tr><td>2013</td><td>7</td><td>1</td><td> 2</td><td>2359</td><td>  3</td><td>344</td><td> 344</td><td>  0</td><td>B6</td><td>1503</td><td>N805JB</td><td>JFK</td><td>SJU</td><td>200</td><td>1598</td><td>23</td><td>59</td><td>2013-07-01 23:00:00</td></tr>\n",
       "\t<tr><td>2013</td><td>7</td><td>1</td><td>29</td><td>2245</td><td>104</td><td>151</td><td>   1</td><td>110</td><td>B6</td><td> 234</td><td>N348JB</td><td>JFK</td><td>BTV</td><td> 66</td><td> 266</td><td>22</td><td>45</td><td>2013-07-01 22:00:00</td></tr>\n",
       "\t<tr><td>2013</td><td>7</td><td>1</td><td>43</td><td>2130</td><td>193</td><td>322</td><td>  14</td><td>188</td><td>B6</td><td>1371</td><td>N794JB</td><td>LGA</td><td>FLL</td><td>143</td><td>1076</td><td>21</td><td>30</td><td>2013-07-01 21:00:00</td></tr>\n",
       "\t<tr><td>2013</td><td>7</td><td>1</td><td>44</td><td>2150</td><td>174</td><td>300</td><td> 100</td><td>120</td><td>AA</td><td> 185</td><td>N324AA</td><td>JFK</td><td>LAX</td><td>297</td><td>2475</td><td>21</td><td>50</td><td>2013-07-01 21:00:00</td></tr>\n",
       "</tbody>\n",
       "</table>\n"
      ],
      "text/latex": [
       "A tibble: 5 × 19\n",
       "\\begin{tabular}{lllllllllllllllllll}\n",
       " year & month & day & dep\\_time & sched\\_dep\\_time & dep\\_delay & arr\\_time & sched\\_arr\\_time & arr\\_delay & carrier & flight & tailnum & origin & dest & air\\_time & distance & hour & minute & time\\_hour\\\\\n",
       " <int> & <int> & <int> & <int> & <int> & <dbl> & <int> & <int> & <dbl> & <chr> & <int> & <chr> & <chr> & <chr> & <dbl> & <dbl> & <dbl> & <dbl> & <dttm>\\\\\n",
       "\\hline\n",
       "\t 2013 & 7 & 1 &  1 & 2029 & 212 & 236 & 2359 & 157 & B6 &  915 & N653JB & JFK & SFO & 315 & 2586 & 20 & 29 & 2013-07-01 20:00:00\\\\\n",
       "\t 2013 & 7 & 1 &  2 & 2359 &   3 & 344 &  344 &   0 & B6 & 1503 & N805JB & JFK & SJU & 200 & 1598 & 23 & 59 & 2013-07-01 23:00:00\\\\\n",
       "\t 2013 & 7 & 1 & 29 & 2245 & 104 & 151 &    1 & 110 & B6 &  234 & N348JB & JFK & BTV &  66 &  266 & 22 & 45 & 2013-07-01 22:00:00\\\\\n",
       "\t 2013 & 7 & 1 & 43 & 2130 & 193 & 322 &   14 & 188 & B6 & 1371 & N794JB & LGA & FLL & 143 & 1076 & 21 & 30 & 2013-07-01 21:00:00\\\\\n",
       "\t 2013 & 7 & 1 & 44 & 2150 & 174 & 300 &  100 & 120 & AA &  185 & N324AA & JFK & LAX & 297 & 2475 & 21 & 50 & 2013-07-01 21:00:00\\\\\n",
       "\\end{tabular}\n"
      ],
      "text/markdown": [
       "\n",
       "A tibble: 5 × 19\n",
       "\n",
       "| year &lt;int&gt; | month &lt;int&gt; | day &lt;int&gt; | dep_time &lt;int&gt; | sched_dep_time &lt;int&gt; | dep_delay &lt;dbl&gt; | arr_time &lt;int&gt; | sched_arr_time &lt;int&gt; | arr_delay &lt;dbl&gt; | carrier &lt;chr&gt; | flight &lt;int&gt; | tailnum &lt;chr&gt; | origin &lt;chr&gt; | dest &lt;chr&gt; | air_time &lt;dbl&gt; | distance &lt;dbl&gt; | hour &lt;dbl&gt; | minute &lt;dbl&gt; | time_hour &lt;dttm&gt; |\n",
       "|---|---|---|---|---|---|---|---|---|---|---|---|---|---|---|---|---|---|---|\n",
       "| 2013 | 7 | 1 |  1 | 2029 | 212 | 236 | 2359 | 157 | B6 |  915 | N653JB | JFK | SFO | 315 | 2586 | 20 | 29 | 2013-07-01 20:00:00 |\n",
       "| 2013 | 7 | 1 |  2 | 2359 |   3 | 344 |  344 |   0 | B6 | 1503 | N805JB | JFK | SJU | 200 | 1598 | 23 | 59 | 2013-07-01 23:00:00 |\n",
       "| 2013 | 7 | 1 | 29 | 2245 | 104 | 151 |    1 | 110 | B6 |  234 | N348JB | JFK | BTV |  66 |  266 | 22 | 45 | 2013-07-01 22:00:00 |\n",
       "| 2013 | 7 | 1 | 43 | 2130 | 193 | 322 |   14 | 188 | B6 | 1371 | N794JB | LGA | FLL | 143 | 1076 | 21 | 30 | 2013-07-01 21:00:00 |\n",
       "| 2013 | 7 | 1 | 44 | 2150 | 174 | 300 |  100 | 120 | AA |  185 | N324AA | JFK | LAX | 297 | 2475 | 21 | 50 | 2013-07-01 21:00:00 |\n",
       "\n"
      ],
      "text/plain": [
       "  year month day dep_time sched_dep_time dep_delay arr_time sched_arr_time\n",
       "1 2013 7     1    1       2029           212       236      2359          \n",
       "2 2013 7     1    2       2359             3       344       344          \n",
       "3 2013 7     1   29       2245           104       151         1          \n",
       "4 2013 7     1   43       2130           193       322        14          \n",
       "5 2013 7     1   44       2150           174       300       100          \n",
       "  arr_delay carrier flight tailnum origin dest air_time distance hour minute\n",
       "1 157       B6       915   N653JB  JFK    SFO  315      2586     20   29    \n",
       "2   0       B6      1503   N805JB  JFK    SJU  200      1598     23   59    \n",
       "3 110       B6       234   N348JB  JFK    BTV   66       266     22   45    \n",
       "4 188       B6      1371   N794JB  LGA    FLL  143      1076     21   30    \n",
       "5 120       AA       185   N324AA  JFK    LAX  297      2475     21   50    \n",
       "  time_hour          \n",
       "1 2013-07-01 20:00:00\n",
       "2 2013-07-01 23:00:00\n",
       "3 2013-07-01 22:00:00\n",
       "4 2013-07-01 21:00:00\n",
       "5 2013-07-01 21:00:00"
      ]
     },
     "metadata": {},
     "output_type": "display_data"
    }
   ],
   "source": [
    "# Departed in summer (July, August, and September)\n",
    "flights |>\n",
    "  filter(month %in% c(7, 8, 9)) |>\n",
    "  head(n = 5)"
   ]
  },
  {
   "cell_type": "code",
   "execution_count": 6,
   "id": "56359766-0849-4995-934e-543831c6de5e",
   "metadata": {},
   "outputs": [
    {
     "data": {
      "text/html": [
       "<table class=\"dataframe\">\n",
       "<caption>A tibble: 3 × 19</caption>\n",
       "<thead>\n",
       "\t<tr><th scope=col>year</th><th scope=col>month</th><th scope=col>day</th><th scope=col>dep_time</th><th scope=col>sched_dep_time</th><th scope=col>dep_delay</th><th scope=col>arr_time</th><th scope=col>sched_arr_time</th><th scope=col>arr_delay</th><th scope=col>carrier</th><th scope=col>flight</th><th scope=col>tailnum</th><th scope=col>origin</th><th scope=col>dest</th><th scope=col>air_time</th><th scope=col>distance</th><th scope=col>hour</th><th scope=col>minute</th><th scope=col>time_hour</th></tr>\n",
       "\t<tr><th scope=col>&lt;int&gt;</th><th scope=col>&lt;int&gt;</th><th scope=col>&lt;int&gt;</th><th scope=col>&lt;int&gt;</th><th scope=col>&lt;int&gt;</th><th scope=col>&lt;dbl&gt;</th><th scope=col>&lt;int&gt;</th><th scope=col>&lt;int&gt;</th><th scope=col>&lt;dbl&gt;</th><th scope=col>&lt;chr&gt;</th><th scope=col>&lt;int&gt;</th><th scope=col>&lt;chr&gt;</th><th scope=col>&lt;chr&gt;</th><th scope=col>&lt;chr&gt;</th><th scope=col>&lt;dbl&gt;</th><th scope=col>&lt;dbl&gt;</th><th scope=col>&lt;dbl&gt;</th><th scope=col>&lt;dbl&gt;</th><th scope=col>&lt;dttm&gt;</th></tr>\n",
       "</thead>\n",
       "<tbody>\n",
       "\t<tr><td>2013</td><td> 7</td><td> 1</td><td> 905</td><td> 905</td><td>0</td><td>1443</td><td>1223</td><td>140</td><td>DL</td><td>1057</td><td>N337NB</td><td>LGA</td><td>MIA</td><td>183</td><td>1096</td><td> 9</td><td> 5</td><td>2013-07-01 09:00:00</td></tr>\n",
       "\t<tr><td>2013</td><td>10</td><td> 7</td><td>1350</td><td>1350</td><td>0</td><td>1736</td><td>1526</td><td>130</td><td>EV</td><td>5181</td><td>N611QX</td><td>LGA</td><td>MSN</td><td>117</td><td> 812</td><td>13</td><td>50</td><td>2013-10-07 13:00:00</td></tr>\n",
       "\t<tr><td>2013</td><td> 5</td><td>23</td><td>1810</td><td>1810</td><td>0</td><td>2208</td><td>2000</td><td>128</td><td>MQ</td><td>4626</td><td>N525MQ</td><td>LGA</td><td>CMH</td><td> 82</td><td> 479</td><td>18</td><td>10</td><td>2013-05-23 18:00:00</td></tr>\n",
       "</tbody>\n",
       "</table>\n"
      ],
      "text/latex": [
       "A tibble: 3 × 19\n",
       "\\begin{tabular}{lllllllllllllllllll}\n",
       " year & month & day & dep\\_time & sched\\_dep\\_time & dep\\_delay & arr\\_time & sched\\_arr\\_time & arr\\_delay & carrier & flight & tailnum & origin & dest & air\\_time & distance & hour & minute & time\\_hour\\\\\n",
       " <int> & <int> & <int> & <int> & <int> & <dbl> & <int> & <int> & <dbl> & <chr> & <int> & <chr> & <chr> & <chr> & <dbl> & <dbl> & <dbl> & <dbl> & <dttm>\\\\\n",
       "\\hline\n",
       "\t 2013 &  7 &  1 &  905 &  905 & 0 & 1443 & 1223 & 140 & DL & 1057 & N337NB & LGA & MIA & 183 & 1096 &  9 &  5 & 2013-07-01 09:00:00\\\\\n",
       "\t 2013 & 10 &  7 & 1350 & 1350 & 0 & 1736 & 1526 & 130 & EV & 5181 & N611QX & LGA & MSN & 117 &  812 & 13 & 50 & 2013-10-07 13:00:00\\\\\n",
       "\t 2013 &  5 & 23 & 1810 & 1810 & 0 & 2208 & 2000 & 128 & MQ & 4626 & N525MQ & LGA & CMH &  82 &  479 & 18 & 10 & 2013-05-23 18:00:00\\\\\n",
       "\\end{tabular}\n"
      ],
      "text/markdown": [
       "\n",
       "A tibble: 3 × 19\n",
       "\n",
       "| year &lt;int&gt; | month &lt;int&gt; | day &lt;int&gt; | dep_time &lt;int&gt; | sched_dep_time &lt;int&gt; | dep_delay &lt;dbl&gt; | arr_time &lt;int&gt; | sched_arr_time &lt;int&gt; | arr_delay &lt;dbl&gt; | carrier &lt;chr&gt; | flight &lt;int&gt; | tailnum &lt;chr&gt; | origin &lt;chr&gt; | dest &lt;chr&gt; | air_time &lt;dbl&gt; | distance &lt;dbl&gt; | hour &lt;dbl&gt; | minute &lt;dbl&gt; | time_hour &lt;dttm&gt; |\n",
       "|---|---|---|---|---|---|---|---|---|---|---|---|---|---|---|---|---|---|---|\n",
       "| 2013 |  7 |  1 |  905 |  905 | 0 | 1443 | 1223 | 140 | DL | 1057 | N337NB | LGA | MIA | 183 | 1096 |  9 |  5 | 2013-07-01 09:00:00 |\n",
       "| 2013 | 10 |  7 | 1350 | 1350 | 0 | 1736 | 1526 | 130 | EV | 5181 | N611QX | LGA | MSN | 117 |  812 | 13 | 50 | 2013-10-07 13:00:00 |\n",
       "| 2013 |  5 | 23 | 1810 | 1810 | 0 | 2208 | 2000 | 128 | MQ | 4626 | N525MQ | LGA | CMH |  82 |  479 | 18 | 10 | 2013-05-23 18:00:00 |\n",
       "\n"
      ],
      "text/plain": [
       "  year month day dep_time sched_dep_time dep_delay arr_time sched_arr_time\n",
       "1 2013  7     1   905      905           0         1443     1223          \n",
       "2 2013 10     7  1350     1350           0         1736     1526          \n",
       "3 2013  5    23  1810     1810           0         2208     2000          \n",
       "  arr_delay carrier flight tailnum origin dest air_time distance hour minute\n",
       "1 140       DL      1057   N337NB  LGA    MIA  183      1096      9    5    \n",
       "2 130       EV      5181   N611QX  LGA    MSN  117       812     13   50    \n",
       "3 128       MQ      4626   N525MQ  LGA    CMH   82       479     18   10    \n",
       "  time_hour          \n",
       "1 2013-07-01 09:00:00\n",
       "2 2013-10-07 13:00:00\n",
       "3 2013-05-23 18:00:00"
      ]
     },
     "metadata": {},
     "output_type": "display_data"
    }
   ],
   "source": [
    "# Arrived more than two hours late but didn’t leave late\n",
    "flights |>\n",
    "  filter(arr_delay > 120 & dep_delay == 0) |>\n",
    "  arrange(desc(arr_delay))"
   ]
  },
  {
   "cell_type": "code",
   "execution_count": 7,
   "id": "ddca9fad-91f5-44c4-ae2f-b9701b039c5b",
   "metadata": {},
   "outputs": [
    {
     "data": {
      "text/html": [
       "<table class=\"dataframe\">\n",
       "<caption>A tibble: 5 × 19</caption>\n",
       "<thead>\n",
       "\t<tr><th scope=col>year</th><th scope=col>month</th><th scope=col>day</th><th scope=col>dep_time</th><th scope=col>sched_dep_time</th><th scope=col>dep_delay</th><th scope=col>arr_time</th><th scope=col>sched_arr_time</th><th scope=col>arr_delay</th><th scope=col>carrier</th><th scope=col>flight</th><th scope=col>tailnum</th><th scope=col>origin</th><th scope=col>dest</th><th scope=col>air_time</th><th scope=col>distance</th><th scope=col>hour</th><th scope=col>minute</th><th scope=col>time_hour</th></tr>\n",
       "\t<tr><th scope=col>&lt;int&gt;</th><th scope=col>&lt;int&gt;</th><th scope=col>&lt;int&gt;</th><th scope=col>&lt;int&gt;</th><th scope=col>&lt;int&gt;</th><th scope=col>&lt;dbl&gt;</th><th scope=col>&lt;int&gt;</th><th scope=col>&lt;int&gt;</th><th scope=col>&lt;dbl&gt;</th><th scope=col>&lt;chr&gt;</th><th scope=col>&lt;int&gt;</th><th scope=col>&lt;chr&gt;</th><th scope=col>&lt;chr&gt;</th><th scope=col>&lt;chr&gt;</th><th scope=col>&lt;dbl&gt;</th><th scope=col>&lt;dbl&gt;</th><th scope=col>&lt;dbl&gt;</th><th scope=col>&lt;dbl&gt;</th><th scope=col>&lt;dttm&gt;</th></tr>\n",
       "</thead>\n",
       "<tbody>\n",
       "\t<tr><td>2013</td><td>6</td><td>27</td><td> 959</td><td>1900</td><td>899</td><td>1236</td><td>2226</td><td>850</td><td>DL</td><td>2007</td><td>N3762Y</td><td>JFK</td><td>PDX</td><td>313</td><td>2454</td><td>19</td><td> 0</td><td>2013-06-27 19:00:00</td></tr>\n",
       "\t<tr><td>2013</td><td>5</td><td>16</td><td>2233</td><td>1340</td><td>533</td><td>  59</td><td>1640</td><td>499</td><td>AA</td><td> 753</td><td>N3ERAA</td><td>LGA</td><td>DFW</td><td>184</td><td>1389</td><td>13</td><td>40</td><td>2013-05-16 13:00:00</td></tr>\n",
       "\t<tr><td>2013</td><td>8</td><td>21</td><td>  48</td><td>1620</td><td>508</td><td> 251</td><td>1902</td><td>469</td><td>DL</td><td> 843</td><td>N184DN</td><td>JFK</td><td>ATL</td><td> 99</td><td> 760</td><td>16</td><td>20</td><td>2013-08-21 16:00:00</td></tr>\n",
       "\t<tr><td>2013</td><td>6</td><td>24</td><td> 159</td><td>1735</td><td>504</td><td> 432</td><td>2108</td><td>444</td><td>DL</td><td>1543</td><td>N727TW</td><td>JFK</td><td>SEA</td><td>307</td><td>2422</td><td>17</td><td>35</td><td>2013-06-24 17:00:00</td></tr>\n",
       "\t<tr><td>2013</td><td>3</td><td> 8</td><td>1600</td><td> 810</td><td>470</td><td>1759</td><td>1043</td><td>436</td><td>FL</td><td> 361</td><td>N987AT</td><td>LGA</td><td>ATL</td><td>101</td><td> 762</td><td> 8</td><td>10</td><td>2013-03-08 08:00:00</td></tr>\n",
       "</tbody>\n",
       "</table>\n"
      ],
      "text/latex": [
       "A tibble: 5 × 19\n",
       "\\begin{tabular}{lllllllllllllllllll}\n",
       " year & month & day & dep\\_time & sched\\_dep\\_time & dep\\_delay & arr\\_time & sched\\_arr\\_time & arr\\_delay & carrier & flight & tailnum & origin & dest & air\\_time & distance & hour & minute & time\\_hour\\\\\n",
       " <int> & <int> & <int> & <int> & <int> & <dbl> & <int> & <int> & <dbl> & <chr> & <int> & <chr> & <chr> & <chr> & <dbl> & <dbl> & <dbl> & <dbl> & <dttm>\\\\\n",
       "\\hline\n",
       "\t 2013 & 6 & 27 &  959 & 1900 & 899 & 1236 & 2226 & 850 & DL & 2007 & N3762Y & JFK & PDX & 313 & 2454 & 19 &  0 & 2013-06-27 19:00:00\\\\\n",
       "\t 2013 & 5 & 16 & 2233 & 1340 & 533 &   59 & 1640 & 499 & AA &  753 & N3ERAA & LGA & DFW & 184 & 1389 & 13 & 40 & 2013-05-16 13:00:00\\\\\n",
       "\t 2013 & 8 & 21 &   48 & 1620 & 508 &  251 & 1902 & 469 & DL &  843 & N184DN & JFK & ATL &  99 &  760 & 16 & 20 & 2013-08-21 16:00:00\\\\\n",
       "\t 2013 & 6 & 24 &  159 & 1735 & 504 &  432 & 2108 & 444 & DL & 1543 & N727TW & JFK & SEA & 307 & 2422 & 17 & 35 & 2013-06-24 17:00:00\\\\\n",
       "\t 2013 & 3 &  8 & 1600 &  810 & 470 & 1759 & 1043 & 436 & FL &  361 & N987AT & LGA & ATL & 101 &  762 &  8 & 10 & 2013-03-08 08:00:00\\\\\n",
       "\\end{tabular}\n"
      ],
      "text/markdown": [
       "\n",
       "A tibble: 5 × 19\n",
       "\n",
       "| year &lt;int&gt; | month &lt;int&gt; | day &lt;int&gt; | dep_time &lt;int&gt; | sched_dep_time &lt;int&gt; | dep_delay &lt;dbl&gt; | arr_time &lt;int&gt; | sched_arr_time &lt;int&gt; | arr_delay &lt;dbl&gt; | carrier &lt;chr&gt; | flight &lt;int&gt; | tailnum &lt;chr&gt; | origin &lt;chr&gt; | dest &lt;chr&gt; | air_time &lt;dbl&gt; | distance &lt;dbl&gt; | hour &lt;dbl&gt; | minute &lt;dbl&gt; | time_hour &lt;dttm&gt; |\n",
       "|---|---|---|---|---|---|---|---|---|---|---|---|---|---|---|---|---|---|---|\n",
       "| 2013 | 6 | 27 |  959 | 1900 | 899 | 1236 | 2226 | 850 | DL | 2007 | N3762Y | JFK | PDX | 313 | 2454 | 19 |  0 | 2013-06-27 19:00:00 |\n",
       "| 2013 | 5 | 16 | 2233 | 1340 | 533 |   59 | 1640 | 499 | AA |  753 | N3ERAA | LGA | DFW | 184 | 1389 | 13 | 40 | 2013-05-16 13:00:00 |\n",
       "| 2013 | 8 | 21 |   48 | 1620 | 508 |  251 | 1902 | 469 | DL |  843 | N184DN | JFK | ATL |  99 |  760 | 16 | 20 | 2013-08-21 16:00:00 |\n",
       "| 2013 | 6 | 24 |  159 | 1735 | 504 |  432 | 2108 | 444 | DL | 1543 | N727TW | JFK | SEA | 307 | 2422 | 17 | 35 | 2013-06-24 17:00:00 |\n",
       "| 2013 | 3 |  8 | 1600 |  810 | 470 | 1759 | 1043 | 436 | FL |  361 | N987AT | LGA | ATL | 101 |  762 |  8 | 10 | 2013-03-08 08:00:00 |\n",
       "\n"
      ],
      "text/plain": [
       "  year month day dep_time sched_dep_time dep_delay arr_time sched_arr_time\n",
       "1 2013 6     27   959     1900           899       1236     2226          \n",
       "2 2013 5     16  2233     1340           533         59     1640          \n",
       "3 2013 8     21    48     1620           508        251     1902          \n",
       "4 2013 6     24   159     1735           504        432     2108          \n",
       "5 2013 3      8  1600      810           470       1759     1043          \n",
       "  arr_delay carrier flight tailnum origin dest air_time distance hour minute\n",
       "1 850       DL      2007   N3762Y  JFK    PDX  313      2454     19    0    \n",
       "2 499       AA       753   N3ERAA  LGA    DFW  184      1389     13   40    \n",
       "3 469       DL       843   N184DN  JFK    ATL   99       760     16   20    \n",
       "4 444       DL      1543   N727TW  JFK    SEA  307      2422     17   35    \n",
       "5 436       FL       361   N987AT  LGA    ATL  101       762      8   10    \n",
       "  time_hour          \n",
       "1 2013-06-27 19:00:00\n",
       "2 2013-05-16 13:00:00\n",
       "3 2013-08-21 16:00:00\n",
       "4 2013-06-24 17:00:00\n",
       "5 2013-03-08 08:00:00"
      ]
     },
     "metadata": {},
     "output_type": "display_data"
    }
   ],
   "source": [
    "# Were delayed by at least an hour, but made up over 30 minutes in flight\n",
    "flights |>\n",
    "  filter(dep_delay >= 60 & dep_delay - arr_delay > 30) |>\n",
    "  arrange(desc(dep_delay)) |>\n",
    "  head(n = 5)"
   ]
  },
  {
   "cell_type": "code",
   "execution_count": 8,
   "id": "08191369-423d-4f1e-af5c-ef81f5637798",
   "metadata": {},
   "outputs": [
    {
     "data": {
      "text/html": [
       "<table class=\"dataframe\">\n",
       "<caption>A tibble: 5 × 19</caption>\n",
       "<thead>\n",
       "\t<tr><th scope=col>year</th><th scope=col>month</th><th scope=col>day</th><th scope=col>dep_time</th><th scope=col>sched_dep_time</th><th scope=col>dep_delay</th><th scope=col>arr_time</th><th scope=col>sched_arr_time</th><th scope=col>arr_delay</th><th scope=col>carrier</th><th scope=col>flight</th><th scope=col>tailnum</th><th scope=col>origin</th><th scope=col>dest</th><th scope=col>air_time</th><th scope=col>distance</th><th scope=col>hour</th><th scope=col>minute</th><th scope=col>time_hour</th></tr>\n",
       "\t<tr><th scope=col>&lt;int&gt;</th><th scope=col>&lt;int&gt;</th><th scope=col>&lt;int&gt;</th><th scope=col>&lt;int&gt;</th><th scope=col>&lt;int&gt;</th><th scope=col>&lt;dbl&gt;</th><th scope=col>&lt;int&gt;</th><th scope=col>&lt;int&gt;</th><th scope=col>&lt;dbl&gt;</th><th scope=col>&lt;chr&gt;</th><th scope=col>&lt;int&gt;</th><th scope=col>&lt;chr&gt;</th><th scope=col>&lt;chr&gt;</th><th scope=col>&lt;chr&gt;</th><th scope=col>&lt;dbl&gt;</th><th scope=col>&lt;dbl&gt;</th><th scope=col>&lt;dbl&gt;</th><th scope=col>&lt;dbl&gt;</th><th scope=col>&lt;dttm&gt;</th></tr>\n",
       "</thead>\n",
       "<tbody>\n",
       "\t<tr><td>2013</td><td>1</td><td> 9</td><td> 641</td><td> 900</td><td>1301</td><td>1242</td><td>1530</td><td>1272</td><td>HA</td><td>  51</td><td>N384HA</td><td>JFK</td><td>HNL</td><td>640</td><td>4983</td><td> 9</td><td> 0</td><td>2013-01-09 09:00:00</td></tr>\n",
       "\t<tr><td>2013</td><td>6</td><td>15</td><td>1432</td><td>1935</td><td>1137</td><td>1607</td><td>2120</td><td>1127</td><td>MQ</td><td>3535</td><td>N504MQ</td><td>JFK</td><td>CMH</td><td> 74</td><td> 483</td><td>19</td><td>35</td><td>2013-06-15 19:00:00</td></tr>\n",
       "\t<tr><td>2013</td><td>1</td><td>10</td><td>1121</td><td>1635</td><td>1126</td><td>1239</td><td>1810</td><td>1109</td><td>MQ</td><td>3695</td><td>N517MQ</td><td>EWR</td><td>ORD</td><td>111</td><td> 719</td><td>16</td><td>35</td><td>2013-01-10 16:00:00</td></tr>\n",
       "\t<tr><td>2013</td><td>9</td><td>20</td><td>1139</td><td>1845</td><td>1014</td><td>1457</td><td>2210</td><td>1007</td><td>AA</td><td> 177</td><td>N338AA</td><td>JFK</td><td>SFO</td><td>354</td><td>2586</td><td>18</td><td>45</td><td>2013-09-20 18:00:00</td></tr>\n",
       "\t<tr><td>2013</td><td>7</td><td>22</td><td> 845</td><td>1600</td><td>1005</td><td>1044</td><td>1815</td><td> 989</td><td>MQ</td><td>3075</td><td>N665MQ</td><td>JFK</td><td>CVG</td><td> 96</td><td> 589</td><td>16</td><td> 0</td><td>2013-07-22 16:00:00</td></tr>\n",
       "</tbody>\n",
       "</table>\n"
      ],
      "text/latex": [
       "A tibble: 5 × 19\n",
       "\\begin{tabular}{lllllllllllllllllll}\n",
       " year & month & day & dep\\_time & sched\\_dep\\_time & dep\\_delay & arr\\_time & sched\\_arr\\_time & arr\\_delay & carrier & flight & tailnum & origin & dest & air\\_time & distance & hour & minute & time\\_hour\\\\\n",
       " <int> & <int> & <int> & <int> & <int> & <dbl> & <int> & <int> & <dbl> & <chr> & <int> & <chr> & <chr> & <chr> & <dbl> & <dbl> & <dbl> & <dbl> & <dttm>\\\\\n",
       "\\hline\n",
       "\t 2013 & 1 &  9 &  641 &  900 & 1301 & 1242 & 1530 & 1272 & HA &   51 & N384HA & JFK & HNL & 640 & 4983 &  9 &  0 & 2013-01-09 09:00:00\\\\\n",
       "\t 2013 & 6 & 15 & 1432 & 1935 & 1137 & 1607 & 2120 & 1127 & MQ & 3535 & N504MQ & JFK & CMH &  74 &  483 & 19 & 35 & 2013-06-15 19:00:00\\\\\n",
       "\t 2013 & 1 & 10 & 1121 & 1635 & 1126 & 1239 & 1810 & 1109 & MQ & 3695 & N517MQ & EWR & ORD & 111 &  719 & 16 & 35 & 2013-01-10 16:00:00\\\\\n",
       "\t 2013 & 9 & 20 & 1139 & 1845 & 1014 & 1457 & 2210 & 1007 & AA &  177 & N338AA & JFK & SFO & 354 & 2586 & 18 & 45 & 2013-09-20 18:00:00\\\\\n",
       "\t 2013 & 7 & 22 &  845 & 1600 & 1005 & 1044 & 1815 &  989 & MQ & 3075 & N665MQ & JFK & CVG &  96 &  589 & 16 &  0 & 2013-07-22 16:00:00\\\\\n",
       "\\end{tabular}\n"
      ],
      "text/markdown": [
       "\n",
       "A tibble: 5 × 19\n",
       "\n",
       "| year &lt;int&gt; | month &lt;int&gt; | day &lt;int&gt; | dep_time &lt;int&gt; | sched_dep_time &lt;int&gt; | dep_delay &lt;dbl&gt; | arr_time &lt;int&gt; | sched_arr_time &lt;int&gt; | arr_delay &lt;dbl&gt; | carrier &lt;chr&gt; | flight &lt;int&gt; | tailnum &lt;chr&gt; | origin &lt;chr&gt; | dest &lt;chr&gt; | air_time &lt;dbl&gt; | distance &lt;dbl&gt; | hour &lt;dbl&gt; | minute &lt;dbl&gt; | time_hour &lt;dttm&gt; |\n",
       "|---|---|---|---|---|---|---|---|---|---|---|---|---|---|---|---|---|---|---|\n",
       "| 2013 | 1 |  9 |  641 |  900 | 1301 | 1242 | 1530 | 1272 | HA |   51 | N384HA | JFK | HNL | 640 | 4983 |  9 |  0 | 2013-01-09 09:00:00 |\n",
       "| 2013 | 6 | 15 | 1432 | 1935 | 1137 | 1607 | 2120 | 1127 | MQ | 3535 | N504MQ | JFK | CMH |  74 |  483 | 19 | 35 | 2013-06-15 19:00:00 |\n",
       "| 2013 | 1 | 10 | 1121 | 1635 | 1126 | 1239 | 1810 | 1109 | MQ | 3695 | N517MQ | EWR | ORD | 111 |  719 | 16 | 35 | 2013-01-10 16:00:00 |\n",
       "| 2013 | 9 | 20 | 1139 | 1845 | 1014 | 1457 | 2210 | 1007 | AA |  177 | N338AA | JFK | SFO | 354 | 2586 | 18 | 45 | 2013-09-20 18:00:00 |\n",
       "| 2013 | 7 | 22 |  845 | 1600 | 1005 | 1044 | 1815 |  989 | MQ | 3075 | N665MQ | JFK | CVG |  96 |  589 | 16 |  0 | 2013-07-22 16:00:00 |\n",
       "\n"
      ],
      "text/plain": [
       "  year month day dep_time sched_dep_time dep_delay arr_time sched_arr_time\n",
       "1 2013 1      9   641      900           1301      1242     1530          \n",
       "2 2013 6     15  1432     1935           1137      1607     2120          \n",
       "3 2013 1     10  1121     1635           1126      1239     1810          \n",
       "4 2013 9     20  1139     1845           1014      1457     2210          \n",
       "5 2013 7     22   845     1600           1005      1044     1815          \n",
       "  arr_delay carrier flight tailnum origin dest air_time distance hour minute\n",
       "1 1272      HA        51   N384HA  JFK    HNL  640      4983      9    0    \n",
       "2 1127      MQ      3535   N504MQ  JFK    CMH   74       483     19   35    \n",
       "3 1109      MQ      3695   N517MQ  EWR    ORD  111       719     16   35    \n",
       "4 1007      AA       177   N338AA  JFK    SFO  354      2586     18   45    \n",
       "5  989      MQ      3075   N665MQ  JFK    CVG   96       589     16    0    \n",
       "  time_hour          \n",
       "1 2013-01-09 09:00:00\n",
       "2 2013-06-15 19:00:00\n",
       "3 2013-01-10 16:00:00\n",
       "4 2013-09-20 18:00:00\n",
       "5 2013-07-22 16:00:00"
      ]
     },
     "metadata": {},
     "output_type": "display_data"
    },
    {
     "data": {
      "text/html": [
       "<table class=\"dataframe\">\n",
       "<caption>A tibble: 5 × 19</caption>\n",
       "<thead>\n",
       "\t<tr><th scope=col>year</th><th scope=col>month</th><th scope=col>day</th><th scope=col>dep_time</th><th scope=col>sched_dep_time</th><th scope=col>dep_delay</th><th scope=col>arr_time</th><th scope=col>sched_arr_time</th><th scope=col>arr_delay</th><th scope=col>carrier</th><th scope=col>flight</th><th scope=col>tailnum</th><th scope=col>origin</th><th scope=col>dest</th><th scope=col>air_time</th><th scope=col>distance</th><th scope=col>hour</th><th scope=col>minute</th><th scope=col>time_hour</th></tr>\n",
       "\t<tr><th scope=col>&lt;int&gt;</th><th scope=col>&lt;int&gt;</th><th scope=col>&lt;int&gt;</th><th scope=col>&lt;int&gt;</th><th scope=col>&lt;int&gt;</th><th scope=col>&lt;dbl&gt;</th><th scope=col>&lt;int&gt;</th><th scope=col>&lt;int&gt;</th><th scope=col>&lt;dbl&gt;</th><th scope=col>&lt;chr&gt;</th><th scope=col>&lt;int&gt;</th><th scope=col>&lt;chr&gt;</th><th scope=col>&lt;chr&gt;</th><th scope=col>&lt;chr&gt;</th><th scope=col>&lt;dbl&gt;</th><th scope=col>&lt;dbl&gt;</th><th scope=col>&lt;dbl&gt;</th><th scope=col>&lt;dbl&gt;</th><th scope=col>&lt;dttm&gt;</th></tr>\n",
       "</thead>\n",
       "<tbody>\n",
       "\t<tr><td>2013</td><td> 1</td><td>13</td><td>1</td><td>2249</td><td> 72</td><td>108</td><td>2357</td><td> 71</td><td>B6</td><td>  22</td><td>N206JB</td><td>JFK</td><td>SYR</td><td> 41</td><td> 209</td><td>22</td><td>49</td><td>2013-01-13 22:00:00</td></tr>\n",
       "\t<tr><td>2013</td><td> 1</td><td>31</td><td>1</td><td>2100</td><td>181</td><td>124</td><td>2225</td><td>179</td><td>WN</td><td> 530</td><td>N550WN</td><td>LGA</td><td>MDW</td><td>127</td><td> 725</td><td>21</td><td> 0</td><td>2013-01-31 21:00:00</td></tr>\n",
       "\t<tr><td>2013</td><td>11</td><td>13</td><td>1</td><td>2359</td><td>  2</td><td>442</td><td> 440</td><td>  2</td><td>B6</td><td>1503</td><td>N627JB</td><td>JFK</td><td>SJU</td><td>194</td><td>1598</td><td>23</td><td>59</td><td>2013-11-13 23:00:00</td></tr>\n",
       "\t<tr><td>2013</td><td>12</td><td>16</td><td>1</td><td>2359</td><td>  2</td><td>447</td><td> 437</td><td> 10</td><td>B6</td><td> 839</td><td>N607JB</td><td>JFK</td><td>BQN</td><td>202</td><td>1576</td><td>23</td><td>59</td><td>2013-12-16 23:00:00</td></tr>\n",
       "\t<tr><td>2013</td><td>12</td><td>20</td><td>1</td><td>2359</td><td>  2</td><td>430</td><td> 440</td><td>-10</td><td>B6</td><td>1503</td><td>N608JB</td><td>JFK</td><td>SJU</td><td>182</td><td>1598</td><td>23</td><td>59</td><td>2013-12-20 23:00:00</td></tr>\n",
       "</tbody>\n",
       "</table>\n"
      ],
      "text/latex": [
       "A tibble: 5 × 19\n",
       "\\begin{tabular}{lllllllllllllllllll}\n",
       " year & month & day & dep\\_time & sched\\_dep\\_time & dep\\_delay & arr\\_time & sched\\_arr\\_time & arr\\_delay & carrier & flight & tailnum & origin & dest & air\\_time & distance & hour & minute & time\\_hour\\\\\n",
       " <int> & <int> & <int> & <int> & <int> & <dbl> & <int> & <int> & <dbl> & <chr> & <int> & <chr> & <chr> & <chr> & <dbl> & <dbl> & <dbl> & <dbl> & <dttm>\\\\\n",
       "\\hline\n",
       "\t 2013 &  1 & 13 & 1 & 2249 &  72 & 108 & 2357 &  71 & B6 &   22 & N206JB & JFK & SYR &  41 &  209 & 22 & 49 & 2013-01-13 22:00:00\\\\\n",
       "\t 2013 &  1 & 31 & 1 & 2100 & 181 & 124 & 2225 & 179 & WN &  530 & N550WN & LGA & MDW & 127 &  725 & 21 &  0 & 2013-01-31 21:00:00\\\\\n",
       "\t 2013 & 11 & 13 & 1 & 2359 &   2 & 442 &  440 &   2 & B6 & 1503 & N627JB & JFK & SJU & 194 & 1598 & 23 & 59 & 2013-11-13 23:00:00\\\\\n",
       "\t 2013 & 12 & 16 & 1 & 2359 &   2 & 447 &  437 &  10 & B6 &  839 & N607JB & JFK & BQN & 202 & 1576 & 23 & 59 & 2013-12-16 23:00:00\\\\\n",
       "\t 2013 & 12 & 20 & 1 & 2359 &   2 & 430 &  440 & -10 & B6 & 1503 & N608JB & JFK & SJU & 182 & 1598 & 23 & 59 & 2013-12-20 23:00:00\\\\\n",
       "\\end{tabular}\n"
      ],
      "text/markdown": [
       "\n",
       "A tibble: 5 × 19\n",
       "\n",
       "| year &lt;int&gt; | month &lt;int&gt; | day &lt;int&gt; | dep_time &lt;int&gt; | sched_dep_time &lt;int&gt; | dep_delay &lt;dbl&gt; | arr_time &lt;int&gt; | sched_arr_time &lt;int&gt; | arr_delay &lt;dbl&gt; | carrier &lt;chr&gt; | flight &lt;int&gt; | tailnum &lt;chr&gt; | origin &lt;chr&gt; | dest &lt;chr&gt; | air_time &lt;dbl&gt; | distance &lt;dbl&gt; | hour &lt;dbl&gt; | minute &lt;dbl&gt; | time_hour &lt;dttm&gt; |\n",
       "|---|---|---|---|---|---|---|---|---|---|---|---|---|---|---|---|---|---|---|\n",
       "| 2013 |  1 | 13 | 1 | 2249 |  72 | 108 | 2357 |  71 | B6 |   22 | N206JB | JFK | SYR |  41 |  209 | 22 | 49 | 2013-01-13 22:00:00 |\n",
       "| 2013 |  1 | 31 | 1 | 2100 | 181 | 124 | 2225 | 179 | WN |  530 | N550WN | LGA | MDW | 127 |  725 | 21 |  0 | 2013-01-31 21:00:00 |\n",
       "| 2013 | 11 | 13 | 1 | 2359 |   2 | 442 |  440 |   2 | B6 | 1503 | N627JB | JFK | SJU | 194 | 1598 | 23 | 59 | 2013-11-13 23:00:00 |\n",
       "| 2013 | 12 | 16 | 1 | 2359 |   2 | 447 |  437 |  10 | B6 |  839 | N607JB | JFK | BQN | 202 | 1576 | 23 | 59 | 2013-12-16 23:00:00 |\n",
       "| 2013 | 12 | 20 | 1 | 2359 |   2 | 430 |  440 | -10 | B6 | 1503 | N608JB | JFK | SJU | 182 | 1598 | 23 | 59 | 2013-12-20 23:00:00 |\n",
       "\n"
      ],
      "text/plain": [
       "  year month day dep_time sched_dep_time dep_delay arr_time sched_arr_time\n",
       "1 2013  1    13  1        2249            72       108      2357          \n",
       "2 2013  1    31  1        2100           181       124      2225          \n",
       "3 2013 11    13  1        2359             2       442       440          \n",
       "4 2013 12    16  1        2359             2       447       437          \n",
       "5 2013 12    20  1        2359             2       430       440          \n",
       "  arr_delay carrier flight tailnum origin dest air_time distance hour minute\n",
       "1  71       B6        22   N206JB  JFK    SYR   41       209     22   49    \n",
       "2 179       WN       530   N550WN  LGA    MDW  127       725     21    0    \n",
       "3   2       B6      1503   N627JB  JFK    SJU  194      1598     23   59    \n",
       "4  10       B6       839   N607JB  JFK    BQN  202      1576     23   59    \n",
       "5 -10       B6      1503   N608JB  JFK    SJU  182      1598     23   59    \n",
       "  time_hour          \n",
       "1 2013-01-13 22:00:00\n",
       "2 2013-01-31 21:00:00\n",
       "3 2013-11-13 23:00:00\n",
       "4 2013-12-16 23:00:00\n",
       "5 2013-12-20 23:00:00"
      ]
     },
     "metadata": {},
     "output_type": "display_data"
    }
   ],
   "source": [
    "# 2. Sort flights to find the flights with the longest departure delays.\n",
    "# Find the flights that left earliest in the morning#.\n",
    "\n",
    "flights |>\n",
    "  arrange(desc(dep_delay)) |>\n",
    "  head(n = 5)\n",
    "\n",
    "flights |>\n",
    "  arrange(dep_time) |>\n",
    "  head(n = 5)"
   ]
  },
  {
   "cell_type": "code",
   "execution_count": 9,
   "id": "b923901b-5ee6-404a-9e28-d06a7ddcf791",
   "metadata": {},
   "outputs": [
    {
     "data": {
      "text/html": [
       "<table class=\"dataframe\">\n",
       "<caption>A tibble: 5 × 19</caption>\n",
       "<thead>\n",
       "\t<tr><th scope=col>year</th><th scope=col>month</th><th scope=col>day</th><th scope=col>dep_time</th><th scope=col>sched_dep_time</th><th scope=col>dep_delay</th><th scope=col>arr_time</th><th scope=col>sched_arr_time</th><th scope=col>arr_delay</th><th scope=col>carrier</th><th scope=col>flight</th><th scope=col>tailnum</th><th scope=col>origin</th><th scope=col>dest</th><th scope=col>air_time</th><th scope=col>distance</th><th scope=col>hour</th><th scope=col>minute</th><th scope=col>time_hour</th></tr>\n",
       "\t<tr><th scope=col>&lt;int&gt;</th><th scope=col>&lt;int&gt;</th><th scope=col>&lt;int&gt;</th><th scope=col>&lt;int&gt;</th><th scope=col>&lt;int&gt;</th><th scope=col>&lt;dbl&gt;</th><th scope=col>&lt;int&gt;</th><th scope=col>&lt;int&gt;</th><th scope=col>&lt;dbl&gt;</th><th scope=col>&lt;chr&gt;</th><th scope=col>&lt;int&gt;</th><th scope=col>&lt;chr&gt;</th><th scope=col>&lt;chr&gt;</th><th scope=col>&lt;chr&gt;</th><th scope=col>&lt;dbl&gt;</th><th scope=col>&lt;dbl&gt;</th><th scope=col>&lt;dbl&gt;</th><th scope=col>&lt;dbl&gt;</th><th scope=col>&lt;dttm&gt;</th></tr>\n",
       "</thead>\n",
       "<tbody>\n",
       "\t<tr><td>2013</td><td>5</td><td>25</td><td>1709</td><td>1700</td><td> 9</td><td>1923</td><td>1937</td><td>-14</td><td>DL</td><td>1499</td><td>N666DN</td><td>LGA</td><td>ATL</td><td> 65</td><td> 762</td><td>17</td><td> 0</td><td>2013-05-25 17:00:00</td></tr>\n",
       "\t<tr><td>2013</td><td>7</td><td> 2</td><td>1558</td><td>1513</td><td>45</td><td>1745</td><td>1719</td><td> 26</td><td>EV</td><td>4667</td><td>N17196</td><td>EWR</td><td>MSP</td><td> 93</td><td>1008</td><td>15</td><td>13</td><td>2013-07-02 15:00:00</td></tr>\n",
       "\t<tr><td>2013</td><td>5</td><td>13</td><td>2040</td><td>2025</td><td>15</td><td>2225</td><td>2226</td><td> -1</td><td>EV</td><td>4292</td><td>N14568</td><td>EWR</td><td>GSP</td><td> 55</td><td> 594</td><td>20</td><td>25</td><td>2013-05-13 20:00:00</td></tr>\n",
       "\t<tr><td>2013</td><td>3</td><td>23</td><td>1914</td><td>1910</td><td> 4</td><td>2045</td><td>2043</td><td>  2</td><td>EV</td><td>3805</td><td>N12567</td><td>EWR</td><td>BNA</td><td> 70</td><td> 748</td><td>19</td><td>10</td><td>2013-03-23 19:00:00</td></tr>\n",
       "\t<tr><td>2013</td><td>1</td><td>12</td><td>1559</td><td>1600</td><td>-1</td><td>1849</td><td>1917</td><td>-28</td><td>DL</td><td>1902</td><td>N956DL</td><td>LGA</td><td>PBI</td><td>105</td><td>1035</td><td>16</td><td> 0</td><td>2013-01-12 16:00:00</td></tr>\n",
       "</tbody>\n",
       "</table>\n"
      ],
      "text/latex": [
       "A tibble: 5 × 19\n",
       "\\begin{tabular}{lllllllllllllllllll}\n",
       " year & month & day & dep\\_time & sched\\_dep\\_time & dep\\_delay & arr\\_time & sched\\_arr\\_time & arr\\_delay & carrier & flight & tailnum & origin & dest & air\\_time & distance & hour & minute & time\\_hour\\\\\n",
       " <int> & <int> & <int> & <int> & <int> & <dbl> & <int> & <int> & <dbl> & <chr> & <int> & <chr> & <chr> & <chr> & <dbl> & <dbl> & <dbl> & <dbl> & <dttm>\\\\\n",
       "\\hline\n",
       "\t 2013 & 5 & 25 & 1709 & 1700 &  9 & 1923 & 1937 & -14 & DL & 1499 & N666DN & LGA & ATL &  65 &  762 & 17 &  0 & 2013-05-25 17:00:00\\\\\n",
       "\t 2013 & 7 &  2 & 1558 & 1513 & 45 & 1745 & 1719 &  26 & EV & 4667 & N17196 & EWR & MSP &  93 & 1008 & 15 & 13 & 2013-07-02 15:00:00\\\\\n",
       "\t 2013 & 5 & 13 & 2040 & 2025 & 15 & 2225 & 2226 &  -1 & EV & 4292 & N14568 & EWR & GSP &  55 &  594 & 20 & 25 & 2013-05-13 20:00:00\\\\\n",
       "\t 2013 & 3 & 23 & 1914 & 1910 &  4 & 2045 & 2043 &   2 & EV & 3805 & N12567 & EWR & BNA &  70 &  748 & 19 & 10 & 2013-03-23 19:00:00\\\\\n",
       "\t 2013 & 1 & 12 & 1559 & 1600 & -1 & 1849 & 1917 & -28 & DL & 1902 & N956DL & LGA & PBI & 105 & 1035 & 16 &  0 & 2013-01-12 16:00:00\\\\\n",
       "\\end{tabular}\n"
      ],
      "text/markdown": [
       "\n",
       "A tibble: 5 × 19\n",
       "\n",
       "| year &lt;int&gt; | month &lt;int&gt; | day &lt;int&gt; | dep_time &lt;int&gt; | sched_dep_time &lt;int&gt; | dep_delay &lt;dbl&gt; | arr_time &lt;int&gt; | sched_arr_time &lt;int&gt; | arr_delay &lt;dbl&gt; | carrier &lt;chr&gt; | flight &lt;int&gt; | tailnum &lt;chr&gt; | origin &lt;chr&gt; | dest &lt;chr&gt; | air_time &lt;dbl&gt; | distance &lt;dbl&gt; | hour &lt;dbl&gt; | minute &lt;dbl&gt; | time_hour &lt;dttm&gt; |\n",
       "|---|---|---|---|---|---|---|---|---|---|---|---|---|---|---|---|---|---|---|\n",
       "| 2013 | 5 | 25 | 1709 | 1700 |  9 | 1923 | 1937 | -14 | DL | 1499 | N666DN | LGA | ATL |  65 |  762 | 17 |  0 | 2013-05-25 17:00:00 |\n",
       "| 2013 | 7 |  2 | 1558 | 1513 | 45 | 1745 | 1719 |  26 | EV | 4667 | N17196 | EWR | MSP |  93 | 1008 | 15 | 13 | 2013-07-02 15:00:00 |\n",
       "| 2013 | 5 | 13 | 2040 | 2025 | 15 | 2225 | 2226 |  -1 | EV | 4292 | N14568 | EWR | GSP |  55 |  594 | 20 | 25 | 2013-05-13 20:00:00 |\n",
       "| 2013 | 3 | 23 | 1914 | 1910 |  4 | 2045 | 2043 |   2 | EV | 3805 | N12567 | EWR | BNA |  70 |  748 | 19 | 10 | 2013-03-23 19:00:00 |\n",
       "| 2013 | 1 | 12 | 1559 | 1600 | -1 | 1849 | 1917 | -28 | DL | 1902 | N956DL | LGA | PBI | 105 | 1035 | 16 |  0 | 2013-01-12 16:00:00 |\n",
       "\n"
      ],
      "text/plain": [
       "  year month day dep_time sched_dep_time dep_delay arr_time sched_arr_time\n",
       "1 2013 5     25  1709     1700            9        1923     1937          \n",
       "2 2013 7      2  1558     1513           45        1745     1719          \n",
       "3 2013 5     13  2040     2025           15        2225     2226          \n",
       "4 2013 3     23  1914     1910            4        2045     2043          \n",
       "5 2013 1     12  1559     1600           -1        1849     1917          \n",
       "  arr_delay carrier flight tailnum origin dest air_time distance hour minute\n",
       "1 -14       DL      1499   N666DN  LGA    ATL   65       762     17    0    \n",
       "2  26       EV      4667   N17196  EWR    MSP   93      1008     15   13    \n",
       "3  -1       EV      4292   N14568  EWR    GSP   55       594     20   25    \n",
       "4   2       EV      3805   N12567  EWR    BNA   70       748     19   10    \n",
       "5 -28       DL      1902   N956DL  LGA    PBI  105      1035     16    0    \n",
       "  time_hour          \n",
       "1 2013-05-25 17:00:00\n",
       "2 2013-07-02 15:00:00\n",
       "3 2013-05-13 20:00:00\n",
       "4 2013-03-23 19:00:00\n",
       "5 2013-01-12 16:00:00"
      ]
     },
     "metadata": {},
     "output_type": "display_data"
    }
   ],
   "source": [
    "# 3. Sort flights to find the fastest flights.\n",
    "# (Hint: Try including a math calculation inside of your function.)\n",
    "flights |>\n",
    "  arrange(desc(distance / air_time)) |>\n",
    "  head(n = 5)"
   ]
  },
  {
   "cell_type": "code",
   "execution_count": 10,
   "id": "304c3121-220b-4b27-a8fa-b84b91b74425",
   "metadata": {},
   "outputs": [
    {
     "data": {
      "text/html": [
       "<table class=\"dataframe\">\n",
       "<caption>A tibble: 1 × 1</caption>\n",
       "<thead>\n",
       "\t<tr><th scope=col>n</th></tr>\n",
       "\t<tr><th scope=col>&lt;int&gt;</th></tr>\n",
       "</thead>\n",
       "<tbody>\n",
       "\t<tr><td>365</td></tr>\n",
       "</tbody>\n",
       "</table>\n"
      ],
      "text/latex": [
       "A tibble: 1 × 1\n",
       "\\begin{tabular}{l}\n",
       " n\\\\\n",
       " <int>\\\\\n",
       "\\hline\n",
       "\t 365\\\\\n",
       "\\end{tabular}\n"
      ],
      "text/markdown": [
       "\n",
       "A tibble: 1 × 1\n",
       "\n",
       "| n &lt;int&gt; |\n",
       "|---|\n",
       "| 365 |\n",
       "\n"
      ],
      "text/plain": [
       "  n  \n",
       "1 365"
      ]
     },
     "metadata": {},
     "output_type": "display_data"
    }
   ],
   "source": [
    "# 4. Was there a flight on every day of 2013?\n",
    "flights |>\n",
    "  distinct(year, month, day) |>\n",
    "  count()\n",
    "# yes."
   ]
  },
  {
   "cell_type": "code",
   "execution_count": 11,
   "id": "4470004a-1b0e-4056-bff8-ba7511435da7",
   "metadata": {},
   "outputs": [
    {
     "data": {
      "text/html": [
       "<table class=\"dataframe\">\n",
       "<caption>A tibble: 1 × 19</caption>\n",
       "<thead>\n",
       "\t<tr><th scope=col>year</th><th scope=col>month</th><th scope=col>day</th><th scope=col>dep_time</th><th scope=col>sched_dep_time</th><th scope=col>dep_delay</th><th scope=col>arr_time</th><th scope=col>sched_arr_time</th><th scope=col>arr_delay</th><th scope=col>carrier</th><th scope=col>flight</th><th scope=col>tailnum</th><th scope=col>origin</th><th scope=col>dest</th><th scope=col>air_time</th><th scope=col>distance</th><th scope=col>hour</th><th scope=col>minute</th><th scope=col>time_hour</th></tr>\n",
       "\t<tr><th scope=col>&lt;int&gt;</th><th scope=col>&lt;int&gt;</th><th scope=col>&lt;int&gt;</th><th scope=col>&lt;int&gt;</th><th scope=col>&lt;int&gt;</th><th scope=col>&lt;dbl&gt;</th><th scope=col>&lt;int&gt;</th><th scope=col>&lt;int&gt;</th><th scope=col>&lt;dbl&gt;</th><th scope=col>&lt;chr&gt;</th><th scope=col>&lt;int&gt;</th><th scope=col>&lt;chr&gt;</th><th scope=col>&lt;chr&gt;</th><th scope=col>&lt;chr&gt;</th><th scope=col>&lt;dbl&gt;</th><th scope=col>&lt;dbl&gt;</th><th scope=col>&lt;dbl&gt;</th><th scope=col>&lt;dbl&gt;</th><th scope=col>&lt;dttm&gt;</th></tr>\n",
       "</thead>\n",
       "<tbody>\n",
       "\t<tr><td>2013</td><td>1</td><td>1</td><td>857</td><td>900</td><td>-3</td><td>1516</td><td>1530</td><td>-14</td><td>HA</td><td>51</td><td>N380HA</td><td>JFK</td><td>HNL</td><td>659</td><td>4983</td><td>9</td><td>0</td><td>2013-01-01 09:00:00</td></tr>\n",
       "</tbody>\n",
       "</table>\n"
      ],
      "text/latex": [
       "A tibble: 1 × 19\n",
       "\\begin{tabular}{lllllllllllllllllll}\n",
       " year & month & day & dep\\_time & sched\\_dep\\_time & dep\\_delay & arr\\_time & sched\\_arr\\_time & arr\\_delay & carrier & flight & tailnum & origin & dest & air\\_time & distance & hour & minute & time\\_hour\\\\\n",
       " <int> & <int> & <int> & <int> & <int> & <dbl> & <int> & <int> & <dbl> & <chr> & <int> & <chr> & <chr> & <chr> & <dbl> & <dbl> & <dbl> & <dbl> & <dttm>\\\\\n",
       "\\hline\n",
       "\t 2013 & 1 & 1 & 857 & 900 & -3 & 1516 & 1530 & -14 & HA & 51 & N380HA & JFK & HNL & 659 & 4983 & 9 & 0 & 2013-01-01 09:00:00\\\\\n",
       "\\end{tabular}\n"
      ],
      "text/markdown": [
       "\n",
       "A tibble: 1 × 19\n",
       "\n",
       "| year &lt;int&gt; | month &lt;int&gt; | day &lt;int&gt; | dep_time &lt;int&gt; | sched_dep_time &lt;int&gt; | dep_delay &lt;dbl&gt; | arr_time &lt;int&gt; | sched_arr_time &lt;int&gt; | arr_delay &lt;dbl&gt; | carrier &lt;chr&gt; | flight &lt;int&gt; | tailnum &lt;chr&gt; | origin &lt;chr&gt; | dest &lt;chr&gt; | air_time &lt;dbl&gt; | distance &lt;dbl&gt; | hour &lt;dbl&gt; | minute &lt;dbl&gt; | time_hour &lt;dttm&gt; |\n",
       "|---|---|---|---|---|---|---|---|---|---|---|---|---|---|---|---|---|---|---|\n",
       "| 2013 | 1 | 1 | 857 | 900 | -3 | 1516 | 1530 | -14 | HA | 51 | N380HA | JFK | HNL | 659 | 4983 | 9 | 0 | 2013-01-01 09:00:00 |\n",
       "\n"
      ],
      "text/plain": [
       "  year month day dep_time sched_dep_time dep_delay arr_time sched_arr_time\n",
       "1 2013 1     1   857      900            -3        1516     1530          \n",
       "  arr_delay carrier flight tailnum origin dest air_time distance hour minute\n",
       "1 -14       HA      51     N380HA  JFK    HNL  659      4983     9    0     \n",
       "  time_hour          \n",
       "1 2013-01-01 09:00:00"
      ]
     },
     "metadata": {},
     "output_type": "display_data"
    },
    {
     "data": {
      "text/html": [
       "<table class=\"dataframe\">\n",
       "<caption>A tibble: 1 × 19</caption>\n",
       "<thead>\n",
       "\t<tr><th scope=col>year</th><th scope=col>month</th><th scope=col>day</th><th scope=col>dep_time</th><th scope=col>sched_dep_time</th><th scope=col>dep_delay</th><th scope=col>arr_time</th><th scope=col>sched_arr_time</th><th scope=col>arr_delay</th><th scope=col>carrier</th><th scope=col>flight</th><th scope=col>tailnum</th><th scope=col>origin</th><th scope=col>dest</th><th scope=col>air_time</th><th scope=col>distance</th><th scope=col>hour</th><th scope=col>minute</th><th scope=col>time_hour</th></tr>\n",
       "\t<tr><th scope=col>&lt;int&gt;</th><th scope=col>&lt;int&gt;</th><th scope=col>&lt;int&gt;</th><th scope=col>&lt;int&gt;</th><th scope=col>&lt;int&gt;</th><th scope=col>&lt;dbl&gt;</th><th scope=col>&lt;int&gt;</th><th scope=col>&lt;int&gt;</th><th scope=col>&lt;dbl&gt;</th><th scope=col>&lt;chr&gt;</th><th scope=col>&lt;int&gt;</th><th scope=col>&lt;chr&gt;</th><th scope=col>&lt;chr&gt;</th><th scope=col>&lt;chr&gt;</th><th scope=col>&lt;dbl&gt;</th><th scope=col>&lt;dbl&gt;</th><th scope=col>&lt;dbl&gt;</th><th scope=col>&lt;dbl&gt;</th><th scope=col>&lt;dttm&gt;</th></tr>\n",
       "</thead>\n",
       "<tbody>\n",
       "\t<tr><td>2013</td><td>7</td><td>27</td><td>NA</td><td>106</td><td>NA</td><td>NA</td><td>245</td><td>NA</td><td>US</td><td>1632</td><td>NA</td><td>EWR</td><td>LGA</td><td>NA</td><td>17</td><td>1</td><td>6</td><td>2013-07-27 01:00:00</td></tr>\n",
       "</tbody>\n",
       "</table>\n"
      ],
      "text/latex": [
       "A tibble: 1 × 19\n",
       "\\begin{tabular}{lllllllllllllllllll}\n",
       " year & month & day & dep\\_time & sched\\_dep\\_time & dep\\_delay & arr\\_time & sched\\_arr\\_time & arr\\_delay & carrier & flight & tailnum & origin & dest & air\\_time & distance & hour & minute & time\\_hour\\\\\n",
       " <int> & <int> & <int> & <int> & <int> & <dbl> & <int> & <int> & <dbl> & <chr> & <int> & <chr> & <chr> & <chr> & <dbl> & <dbl> & <dbl> & <dbl> & <dttm>\\\\\n",
       "\\hline\n",
       "\t 2013 & 7 & 27 & NA & 106 & NA & NA & 245 & NA & US & 1632 & NA & EWR & LGA & NA & 17 & 1 & 6 & 2013-07-27 01:00:00\\\\\n",
       "\\end{tabular}\n"
      ],
      "text/markdown": [
       "\n",
       "A tibble: 1 × 19\n",
       "\n",
       "| year &lt;int&gt; | month &lt;int&gt; | day &lt;int&gt; | dep_time &lt;int&gt; | sched_dep_time &lt;int&gt; | dep_delay &lt;dbl&gt; | arr_time &lt;int&gt; | sched_arr_time &lt;int&gt; | arr_delay &lt;dbl&gt; | carrier &lt;chr&gt; | flight &lt;int&gt; | tailnum &lt;chr&gt; | origin &lt;chr&gt; | dest &lt;chr&gt; | air_time &lt;dbl&gt; | distance &lt;dbl&gt; | hour &lt;dbl&gt; | minute &lt;dbl&gt; | time_hour &lt;dttm&gt; |\n",
       "|---|---|---|---|---|---|---|---|---|---|---|---|---|---|---|---|---|---|---|\n",
       "| 2013 | 7 | 27 | NA | 106 | NA | NA | 245 | NA | US | 1632 | NA | EWR | LGA | NA | 17 | 1 | 6 | 2013-07-27 01:00:00 |\n",
       "\n"
      ],
      "text/plain": [
       "  year month day dep_time sched_dep_time dep_delay arr_time sched_arr_time\n",
       "1 2013 7     27  NA       106            NA        NA       245           \n",
       "  arr_delay carrier flight tailnum origin dest air_time distance hour minute\n",
       "1 NA        US      1632   NA      EWR    LGA  NA       17       1    6     \n",
       "  time_hour          \n",
       "1 2013-07-27 01:00:00"
      ]
     },
     "metadata": {},
     "output_type": "display_data"
    }
   ],
   "source": [
    "# 5. Which flights traveled the farthest distance? Which traveled the least distance?\n",
    "flights |>\n",
    "  arrange(desc(distance)) |>\n",
    "  head(n = 1)\n",
    "\n",
    "flights |>\n",
    "  arrange(distance) |>\n",
    "  head(n = 1)"
   ]
  },
  {
   "cell_type": "code",
   "execution_count": 12,
   "id": "e95b5b51-2b75-472b-b670-9cec67ffa13b",
   "metadata": {},
   "outputs": [],
   "source": [
    "# 6. Does it matter what order you used filter() and arrange() if you’re using both?\n",
    "# Why/why not? Think about the results and\n",
    "# how much work the functions would have to do.\n",
    "\n",
    "# no, it does not matter the order of usage."
   ]
  }
 ],
 "metadata": {
  "kernelspec": {
   "display_name": "R",
   "language": "R",
   "name": "ir"
  },
  "language_info": {
   "codemirror_mode": "r",
   "file_extension": ".r",
   "mimetype": "text/x-r-source",
   "name": "R",
   "pygments_lexer": "r",
   "version": "4.5.0"
  }
 },
 "nbformat": 4,
 "nbformat_minor": 5
}
